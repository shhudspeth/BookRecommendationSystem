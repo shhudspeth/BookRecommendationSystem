{
 "cells": [
  {
   "cell_type": "markdown",
   "metadata": {},
   "source": [
    "## A Recommender System that uses Surprise and Custom Book Ratings Data"
   ]
  },
  {
   "cell_type": "markdown",
   "metadata": {},
   "source": [
    "#### Loading and Pre-processing data"
   ]
  },
  {
   "cell_type": "code",
   "execution_count": 2,
   "metadata": {},
   "outputs": [
    {
     "data": {
      "text/html": [
       "<div>\n",
       "<style scoped>\n",
       "    .dataframe tbody tr th:only-of-type {\n",
       "        vertical-align: middle;\n",
       "    }\n",
       "\n",
       "    .dataframe tbody tr th {\n",
       "        vertical-align: top;\n",
       "    }\n",
       "\n",
       "    .dataframe thead th {\n",
       "        text-align: right;\n",
       "    }\n",
       "</style>\n",
       "<table border=\"1\" class=\"dataframe\">\n",
       "  <thead>\n",
       "    <tr style=\"text-align: right;\">\n",
       "      <th></th>\n",
       "      <th>Unnamed: 0</th>\n",
       "      <th>asin</th>\n",
       "      <th>reviewerID</th>\n",
       "      <th>overall</th>\n",
       "    </tr>\n",
       "  </thead>\n",
       "  <tbody>\n",
       "    <tr>\n",
       "      <td>0</td>\n",
       "      <td>0</td>\n",
       "      <td>000100039X</td>\n",
       "      <td>A2S166WSCFIFP5</td>\n",
       "      <td>5.0</td>\n",
       "    </tr>\n",
       "    <tr>\n",
       "      <td>1</td>\n",
       "      <td>1</td>\n",
       "      <td>000100039X</td>\n",
       "      <td>A1BM81XB4QHOA3</td>\n",
       "      <td>5.0</td>\n",
       "    </tr>\n",
       "    <tr>\n",
       "      <td>2</td>\n",
       "      <td>2</td>\n",
       "      <td>000100039X</td>\n",
       "      <td>A1MOSTXNIO5MPJ</td>\n",
       "      <td>5.0</td>\n",
       "    </tr>\n",
       "    <tr>\n",
       "      <td>3</td>\n",
       "      <td>3</td>\n",
       "      <td>000100039X</td>\n",
       "      <td>A2XQ5LZHTD4AFT</td>\n",
       "      <td>5.0</td>\n",
       "    </tr>\n",
       "    <tr>\n",
       "      <td>4</td>\n",
       "      <td>4</td>\n",
       "      <td>000100039X</td>\n",
       "      <td>A3V1MKC2BVWY48</td>\n",
       "      <td>5.0</td>\n",
       "    </tr>\n",
       "  </tbody>\n",
       "</table>\n",
       "</div>"
      ],
      "text/plain": [
       "   Unnamed: 0        asin      reviewerID  overall\n",
       "0           0  000100039X  A2S166WSCFIFP5      5.0\n",
       "1           1  000100039X  A1BM81XB4QHOA3      5.0\n",
       "2           2  000100039X  A1MOSTXNIO5MPJ      5.0\n",
       "3           3  000100039X  A2XQ5LZHTD4AFT      5.0\n",
       "4           4  000100039X  A3V1MKC2BVWY48      5.0"
      ]
     },
     "execution_count": 2,
     "metadata": {},
     "output_type": "execute_result"
    }
   ],
   "source": [
    "import pandas as pd\n",
    "\n",
    "read_ = pd.read_csv('books_ratings.csv')\n",
    "\n",
    "read_.head()"
   ]
  },
  {
   "cell_type": "code",
   "execution_count": 3,
   "metadata": {},
   "outputs": [],
   "source": [
    "read_.drop(columns = ['Unnamed: 0'], inplace=True)\n"
   ]
  },
  {
   "cell_type": "code",
   "execution_count": 4,
   "metadata": {},
   "outputs": [],
   "source": [
    "read_ = read_[['reviewerID', 'asin', 'overall']]"
   ]
  },
  {
   "cell_type": "code",
   "execution_count": 5,
   "metadata": {},
   "outputs": [
    {
     "data": {
      "text/html": [
       "<div>\n",
       "<style scoped>\n",
       "    .dataframe tbody tr th:only-of-type {\n",
       "        vertical-align: middle;\n",
       "    }\n",
       "\n",
       "    .dataframe tbody tr th {\n",
       "        vertical-align: top;\n",
       "    }\n",
       "\n",
       "    .dataframe thead th {\n",
       "        text-align: right;\n",
       "    }\n",
       "</style>\n",
       "<table border=\"1\" class=\"dataframe\">\n",
       "  <thead>\n",
       "    <tr style=\"text-align: right;\">\n",
       "      <th></th>\n",
       "      <th>reviewerID</th>\n",
       "      <th>asin</th>\n",
       "      <th>overall</th>\n",
       "    </tr>\n",
       "  </thead>\n",
       "  <tbody>\n",
       "    <tr>\n",
       "      <td>0</td>\n",
       "      <td>A2S166WSCFIFP5</td>\n",
       "      <td>000100039X</td>\n",
       "      <td>5.0</td>\n",
       "    </tr>\n",
       "    <tr>\n",
       "      <td>1</td>\n",
       "      <td>A1BM81XB4QHOA3</td>\n",
       "      <td>000100039X</td>\n",
       "      <td>5.0</td>\n",
       "    </tr>\n",
       "    <tr>\n",
       "      <td>2</td>\n",
       "      <td>A1MOSTXNIO5MPJ</td>\n",
       "      <td>000100039X</td>\n",
       "      <td>5.0</td>\n",
       "    </tr>\n",
       "    <tr>\n",
       "      <td>3</td>\n",
       "      <td>A2XQ5LZHTD4AFT</td>\n",
       "      <td>000100039X</td>\n",
       "      <td>5.0</td>\n",
       "    </tr>\n",
       "    <tr>\n",
       "      <td>4</td>\n",
       "      <td>A3V1MKC2BVWY48</td>\n",
       "      <td>000100039X</td>\n",
       "      <td>5.0</td>\n",
       "    </tr>\n",
       "  </tbody>\n",
       "</table>\n",
       "</div>"
      ],
      "text/plain": [
       "       reviewerID        asin  overall\n",
       "0  A2S166WSCFIFP5  000100039X      5.0\n",
       "1  A1BM81XB4QHOA3  000100039X      5.0\n",
       "2  A1MOSTXNIO5MPJ  000100039X      5.0\n",
       "3  A2XQ5LZHTD4AFT  000100039X      5.0\n",
       "4  A3V1MKC2BVWY48  000100039X      5.0"
      ]
     },
     "execution_count": 5,
     "metadata": {},
     "output_type": "execute_result"
    }
   ],
   "source": [
    "read_.head()"
   ]
  },
  {
   "cell_type": "code",
   "execution_count": 6,
   "metadata": {},
   "outputs": [],
   "source": [
    "user_ratings_ave= read_.groupby('reviewerID')['overall'].mean()"
   ]
  },
  {
   "cell_type": "code",
   "execution_count": 7,
   "metadata": {},
   "outputs": [],
   "source": [
    "user_ratings_count = read_.groupby('reviewerID')['overall'].count()"
   ]
  },
  {
   "cell_type": "code",
   "execution_count": 8,
   "metadata": {},
   "outputs": [
    {
     "data": {
      "text/plain": [
       "reviewerID\n",
       "A00098481E8WIB9X660MV    1\n",
       "A00109803PZJ91RLT7DPN    2\n",
       "A00154983C0WD3K7FLYTW    1\n",
       "A00311082372LV4OV6WJC    1\n",
       "A00338282E99B8OR2JYTZ    3\n",
       "Name: overall, dtype: int64"
      ]
     },
     "execution_count": 8,
     "metadata": {},
     "output_type": "execute_result"
    }
   ],
   "source": [
    "user_ratings_count.head()"
   ]
  },
  {
   "cell_type": "code",
   "execution_count": 9,
   "metadata": {},
   "outputs": [
    {
     "data": {
      "text/plain": [
       "count    317842.000000\n",
       "mean          3.146214\n",
       "std           9.883328\n",
       "min           1.000000\n",
       "25%           1.000000\n",
       "50%           2.000000\n",
       "75%           3.000000\n",
       "max        2567.000000\n",
       "Name: overall, dtype: float64"
      ]
     },
     "execution_count": 9,
     "metadata": {},
     "output_type": "execute_result"
    }
   ],
   "source": [
    "user_ratings_count.describe()"
   ]
  },
  {
   "cell_type": "markdown",
   "metadata": {},
   "source": [
    "### Creates a dictionary of threshold values for each user based on their average rating counts"
   ]
  },
  {
   "cell_type": "code",
   "execution_count": 10,
   "metadata": {},
   "outputs": [],
   "source": [
    "from collections import defaultdict\n",
    "\n",
    "def user_ave_rating_threshold(df, n):\n",
    "    ''' Function that averages a unique reviewerID's ratings if they have reviewed more than n books\n",
    "        and returns a dictionary of threshold values and ids'''\n",
    "    \n",
    "    \n",
    "    threshold_dict = defaultdict(list)\n",
    "    \n",
    "    # note--> to optimize only find the mean if it means the user_Rating_count\n",
    "    \n",
    "    user_ratings_ave= df.groupby('reviewerID')['overall'].mean()\n",
    "    user_ratings_count = df.groupby('reviewerID')['overall'].count()\n",
    "    \n",
    "    for x in df['reviewerID'].unique():\n",
    "        if user_ratings_count[x] > n:\n",
    "            threshold_dict[x] = user_ratings_ave[x]\n",
    "        else:\n",
    "            threshold_dict[x] = 3.5\n",
    "    \n",
    "    return(threshold_dict)\n",
    "            \n",
    "        \n",
    "threshold_diction = user_ave_rating_threshold(read_, 8)\n",
    "    "
   ]
  },
  {
   "cell_type": "markdown",
   "metadata": {},
   "source": [
    "#### Some troubleshooting support for importing models"
   ]
  },
  {
   "cell_type": "code",
   "execution_count": 11,
   "metadata": {},
   "outputs": [
    {
     "data": {
      "text/plain": [
       "['/Users/shhudspeth/sharpest_minds/book_rec_sys',\n",
       " '/Users/shhudspeth/open_CV_env/lib/python37.zip',\n",
       " '/Users/shhudspeth/open_CV_env/lib/python3.7',\n",
       " '/Users/shhudspeth/open_CV_env/lib/python3.7/lib-dynload',\n",
       " '/usr/local/Cellar/python/3.7.3/Frameworks/Python.framework/Versions/3.7/lib/python3.7',\n",
       " '',\n",
       " '/Users/shhudspeth/open_CV_env/lib/python3.7/site-packages',\n",
       " '/Users/shhudspeth/open_CV_env/lib/python3.7/site-packages/google_cloud_vision-0.39.0-py3.7.egg',\n",
       " '/Users/shhudspeth/zhenglib/bookshelf',\n",
       " '/Users/shhudspeth/open_CV_env/lib/python3.7/site-packages',\n",
       " '/Users/shhudspeth/open_CV_env/lib/python3.7/site-packages/IPython/extensions',\n",
       " '/Users/shhudspeth/.ipython']"
      ]
     },
     "execution_count": 11,
     "metadata": {},
     "output_type": "execute_result"
    }
   ],
   "source": [
    "# Surprise sometimes does not import, have to check jupyter kernel\n",
    "import sys\n",
    "\n",
    "sys.executable\n",
    "sys.path"
   ]
  },
  {
   "cell_type": "markdown",
   "metadata": {},
   "source": [
    "### Import and Load Surprise"
   ]
  },
  {
   "cell_type": "code",
   "execution_count": 14,
   "metadata": {},
   "outputs": [],
   "source": [
    "from surprise import Reader, Dataset\n",
    "from collections import defaultdict\n",
    "from surprise import SVD\n",
    "from surprise import SVD\n",
    "from surprise import accuracy\n",
    "from surprise.model_selection import KFold\n",
    "\n",
    "\n",
    "# Define the format\n",
    "reader = Reader(rating_scale=(1, 5))\n",
    "\n",
    "# Load the data from the file using the reader format\n",
    "data = Dataset.load_from_df(read_, reader=reader)"
   ]
  },
  {
   "cell_type": "markdown",
   "metadata": {},
   "source": [
    "### Create Baseline RSME using NormalPredictor"
   ]
  },
  {
   "cell_type": "code",
   "execution_count": 14,
   "metadata": {},
   "outputs": [],
   "source": [
    "from surprise.model_selection import cross_validate\n",
    "from surprise import NormalPredictor\n",
    "\n",
    "\n",
    "norm_preds = cross_validate(NormalPredictor(), data, cv=5)"
   ]
  },
  {
   "cell_type": "code",
   "execution_count": 15,
   "metadata": {},
   "outputs": [
    {
     "data": {
      "text/plain": [
       "{'test_rmse': array([1.41301579, 1.41480636, 1.41302809, 1.41601584, 1.41565427]),\n",
       " 'test_mae': array([1.07345351, 1.07665127, 1.07350613, 1.07630587, 1.07628251]),\n",
       " 'fit_time': (3.2210822105407715,\n",
       "  3.126596212387085,\n",
       "  3.0132720470428467,\n",
       "  4.275090932846069,\n",
       "  3.7719621658325195),\n",
       " 'test_time': (4.502867221832275,\n",
       "  3.9158668518066406,\n",
       "  4.839477062225342,\n",
       "  5.263336896896362,\n",
       "  4.0047760009765625)}"
      ]
     },
     "execution_count": 15,
     "metadata": {},
     "output_type": "execute_result"
    }
   ],
   "source": [
    "norm_preds"
   ]
  },
  {
   "cell_type": "markdown",
   "metadata": {},
   "source": [
    "### Use KFold&SVD to compare to NormalPredictor()"
   ]
  },
  {
   "cell_type": "code",
   "execution_count": 16,
   "metadata": {},
   "outputs": [
    {
     "name": "stdout",
     "output_type": "stream",
     "text": [
      "RMSE: 1.0099\n",
      "MAE:  0.7761\n",
      "RMSE: 1.0099\n",
      "MAE:  0.7759\n",
      "RMSE: 1.0119\n",
      "MAE:  0.7766\n",
      "RMSE: 1.0072\n",
      "MAE:  0.7735\n",
      "RMSE: 1.0116\n",
      "MAE:  0.7771\n"
     ]
    }
   ],
   "source": [
    "from surprise import SVD\n",
    "from surprise import accuracy\n",
    "from surprise.model_selection import KFold\n",
    "\n",
    "rmse_to_ave= []\n",
    "mae_to_ave = []\n",
    "\n",
    "# define a cross-validation iterator\n",
    "kf = KFold(n_splits=5)\n",
    "\n",
    "algo = SVD()\n",
    "\n",
    "for trainset, testset in kf.split(data):\n",
    "\n",
    "    # train and test algorithm.\n",
    "    algo.fit(trainset)\n",
    "    predictions = algo.test(testset)\n",
    "\n",
    "    # Compute and print Root Mean Squared Error and Mean Average Error\n",
    "    rmse_to_ave.append(accuracy.rmse(predictions, verbose=True))\n",
    "    mae_to_ave.append(accuracy.mae(predictions, verbose=True))"
   ]
  },
  {
   "cell_type": "code",
   "execution_count": 17,
   "metadata": {},
   "outputs": [],
   "source": [
    "rmse_ave = sum(rmse_to_ave)/len(rmse_to_ave)"
   ]
  },
  {
   "cell_type": "code",
   "execution_count": 18,
   "metadata": {},
   "outputs": [],
   "source": [
    "mae_ave = sum(mae_to_ave)/len(mae_to_ave)"
   ]
  },
  {
   "cell_type": "code",
   "execution_count": 19,
   "metadata": {},
   "outputs": [
    {
     "name": "stdout",
     "output_type": "stream",
     "text": [
      "change of rmse is 0.2858820023912483 and change of mae is 0.27845078567193343\n"
     ]
    }
   ],
   "source": [
    "#average improvements:\n",
    "improve_rmse = (norm_preds['test_rmse'].mean() - rmse_ave.mean() )/norm_preds['test_rmse'].mean()\n",
    "improve_mae = (norm_preds['test_mae'].mean() - mae_ave.mean() )/norm_preds['test_mae'].mean()\n",
    "\n",
    "print(\"change of rmse is {0} and change of mae is {1}\".format(improve_rmse,improve_mae ))"
   ]
  },
  {
   "cell_type": "markdown",
   "metadata": {},
   "source": [
    "### CONCLUSION: KFold + SVD is an improvement over NormalPredictor by about 30% "
   ]
  },
  {
   "cell_type": "markdown",
   "metadata": {},
   "source": [
    "## Get Top N Recs"
   ]
  },
  {
   "cell_type": "markdown",
   "metadata": {},
   "source": [
    "#### API Code to get Book title from ISBN number"
   ]
  },
  {
   "cell_type": "code",
   "execution_count": 12,
   "metadata": {},
   "outputs": [],
   "source": [
    "import requests\n",
    "import re\n",
    "\n",
    "def get_response(url):\n",
    "    response = requests.get(url)\n",
    "    # print('Acquired following info about the book {}'.format(response.text))\n",
    "    json_data = json.loads(response.text)\n",
    "    return json_data                              \n",
    "                    \n",
    "    \n",
    "def get_title_of_book(text):\n",
    "    title_ =[]\n",
    "    for x in text.keys():\n",
    "        # print(x)\n",
    "        title_.append(text[x]['title'])\n",
    "    return title_\n",
    "    \n",
    "    \n",
    "def form_url(ISBN=None):\n",
    "    \"\"\"Formulate an url that will be sent to openlibrary.org/api'.\n",
    "\n",
    "    Parameters\n",
    "    ----------\n",
    "    ISBN : string\n",
    "        a string of book's ISBN.\n",
    "\n",
    "    Returns\n",
    "    -------\n",
    "    string\n",
    "        An url that will be sent to openlibrary/org/api.\n",
    "\n",
    "    \"\"\"\n",
    "    url = 'https://openlibrary.org/api/books?bibkeys=ISBN:' + \\\n",
    "        ISBN + '&jscmd=data&format=json'\n",
    "\n",
    "    return url\n",
    "\n",
    "def get_book_name(ISBN):\n",
    "        url = form_url(ISBN)\n",
    "        text = get_response(url)\n",
    "        name_of_book = get_title_of_book(text)\n",
    "        \n",
    "        return(name_of_book)\n"
   ]
  },
  {
   "cell_type": "code",
   "execution_count": 1,
   "metadata": {},
   "outputs": [
    {
     "ename": "NameError",
     "evalue": "name 'data' is not defined",
     "output_type": "error",
     "traceback": [
      "\u001b[0;31m---------------------------------------------------------------------------\u001b[0m",
      "\u001b[0;31mNameError\u001b[0m                                 Traceback (most recent call last)",
      "\u001b[0;32m<ipython-input-1-bb8d748a6f9a>\u001b[0m in \u001b[0;36m<module>\u001b[0;34m\u001b[0m\n\u001b[1;32m     33\u001b[0m \u001b[0;34m\u001b[0m\u001b[0m\n\u001b[1;32m     34\u001b[0m \u001b[0;31m# First train an SVD algorithm on the book dataset.\u001b[0m\u001b[0;34m\u001b[0m\u001b[0;34m\u001b[0m\u001b[0;34m\u001b[0m\u001b[0m\n\u001b[0;32m---> 35\u001b[0;31m \u001b[0mtrainset\u001b[0m \u001b[0;34m=\u001b[0m \u001b[0mdata\u001b[0m\u001b[0;34m.\u001b[0m\u001b[0mbuild_full_trainset\u001b[0m\u001b[0;34m(\u001b[0m\u001b[0;34m)\u001b[0m\u001b[0;34m\u001b[0m\u001b[0;34m\u001b[0m\u001b[0m\n\u001b[0m\u001b[1;32m     36\u001b[0m \u001b[0malgo\u001b[0m \u001b[0;34m=\u001b[0m \u001b[0mSVD\u001b[0m\u001b[0;34m(\u001b[0m\u001b[0;34m)\u001b[0m\u001b[0;34m\u001b[0m\u001b[0;34m\u001b[0m\u001b[0m\n\u001b[1;32m     37\u001b[0m \u001b[0malgo\u001b[0m\u001b[0;34m.\u001b[0m\u001b[0mfit\u001b[0m\u001b[0;34m(\u001b[0m\u001b[0mtrainset\u001b[0m\u001b[0;34m)\u001b[0m\u001b[0;34m\u001b[0m\u001b[0;34m\u001b[0m\u001b[0m\n",
      "\u001b[0;31mNameError\u001b[0m: name 'data' is not defined"
     ]
    }
   ],
   "source": [
    "def get_top_n(predictions, n=10):\n",
    "    '''Return the top-N recommendation for each user from a set of predictions.\n",
    "\n",
    "    Args:\n",
    "        predictions(list of Prediction objects): The list of predictions, as\n",
    "            returned by the test method of an algorithm.\n",
    "        n(int): The number of recommendation to output for each user. Default\n",
    "            is 10.\n",
    "\n",
    "    Returns:\n",
    "    A dict where keys are user (raw) ids and values are lists of tuples:\n",
    "        [(raw item id, rating estimation), ...] of size n.\n",
    "    '''\n",
    "\n",
    "    # First map the predictions to each user.\n",
    "    top_n = defaultdict(list)\n",
    "    for uid, iid, true_r, est, _ in predictions:\n",
    "        top_n[uid].append((iid, est))\n",
    "\n",
    "    # Then sort the predictions for each user and retrieve the k highest ones.\n",
    "    for uid, user_ratings in top_n.items():\n",
    "        user_ratings.sort(key=lambda x: x[1], reverse=True)\n",
    "        top_n[uid] = user_ratings[:n]\n",
    "\n",
    "    return top_n\n",
    "\n",
    "\n",
    "# First train an SVD algorithm on the book dataset.\n",
    "trainset = data.build_full_trainset()\n",
    "algo = SVD()\n",
    "algo.fit(trainset)\n",
    "\n",
    "# Then predict ratings for all pairs (u, i) that are NOT in the training set.\n",
    "testset = trainset.build_anti_testset()\n",
    "predictions = algo.test(testset)\n",
    "\n",
    "top_n = get_top_n(predictions, n=5)\n",
    "\n",
    "# Print the recommended items for each user\n",
    "for uid, user_ratings in top_n[:10].items():\n",
    "    print(uid, [get_book_name(iid) for (iid, _) in user_ratings])"
   ]
  },
  {
   "cell_type": "code",
   "execution_count": null,
   "metadata": {},
   "outputs": [],
   "source": []
  },
  {
   "cell_type": "markdown",
   "metadata": {},
   "source": [
    "## Code that uses Precision and Recall Metrics Methods"
   ]
  },
  {
   "cell_type": "markdown",
   "metadata": {},
   "source": [
    "### Finding Precision and Recall using a base threshold at 3.5"
   ]
  },
  {
   "cell_type": "code",
   "execution_count": 22,
   "metadata": {},
   "outputs": [],
   "source": [
    "import matplotlib.pyplot as plt\n",
    "from sklearn.metrics import roc_auc_score, roc_curve, auc"
   ]
  },
  {
   "cell_type": "code",
   "execution_count": 15,
   "metadata": {},
   "outputs": [],
   "source": [
    "def precision_recall_at_k(predictions, k=10, threshold=3.5):\n",
    "    '''Return precision and recall at k metrics for each user.'''\n",
    "\n",
    "    # First map the predictions to each user.\n",
    "    user_est_true = defaultdict(list)\n",
    "    for uid, _, true_r, est, _ in predictions:\n",
    "        user_est_true[uid].append((est, true_r))\n",
    "\n",
    "    precisions = dict()\n",
    "    recalls = dict()\n",
    "    for uid, user_ratings in user_est_true.items():\n",
    "\n",
    "        # Sort user ratings by estimated value\n",
    "        user_ratings.sort(key=lambda x: x[0], reverse=True)\n",
    "\n",
    "        # Number of relevant items\n",
    "        n_rel = sum((true_r >= threshold) for (_, true_r) in user_ratings)\n",
    "\n",
    "        # Number of recommended items in top k\n",
    "        n_rec_k = sum((est >= threshold) for (est, _) in user_ratings[:k])\n",
    "\n",
    "        # Number of relevant and recommended items in top k\n",
    "        n_rel_and_rec_k = sum(((true_r >= threshold) and (est >= threshold))\n",
    "                              for (est, true_r) in user_ratings[:k])\n",
    "\n",
    "        # Precision@K: Proportion of recommended items that are relevant\n",
    "        precisions[uid] = n_rel_and_rec_k / n_rec_k if n_rec_k != 0 else 1\n",
    "\n",
    "        # Recall@K: Proportion of relevant items that are recommended\n",
    "        recalls[uid] = n_rel_and_rec_k / n_rel if n_rel != 0 else 1\n",
    "\n",
    "    return precisions, recalls\n",
    "\n",
    "\n",
    "\n",
    "kf = KFold(n_splits=5)\n",
    "algo = SVD()\n",
    "\n",
    "prec_to_ave = []\n",
    "rec_to_ave = []\n",
    "\n",
    "for trainset, testset in kf.split(data):\n",
    "    algo.fit(trainset)\n",
    "    predictions = algo.test(testset)\n",
    "    precisions, recalls = precision_recall_at_k(predictions, k=5, threshold=4)\n",
    "\n",
    "    # Precision and recall can then be averaged over all users\n",
    "    \n",
    "    prec_to_ave.append(sum(prec for prec in precisions.values()) / len(precisions))\n",
    "    rec_to_ave.append(sum(rec for rec in recalls.values()) / len(recalls))"
   ]
  },
  {
   "cell_type": "code",
   "execution_count": 16,
   "metadata": {},
   "outputs": [],
   "source": [
    "def make_binary_tpr_fpr(predictions, threshold=3.5):\n",
    "    pred_df = pd.DataFrame(predictions)\n",
    "    pred_df['r_ui'].where(pred_df['r_ui']>threshold, 1, inplace=True)\n",
    "    pred_df['r_ui'].where(pred_df['r_ui']<=threshold, 0, inplace=True)\n",
    "    \n",
    "    pred_df['est'].where(pred_df['est']>threshold, 1, inplace=True)\n",
    "    pred_df['est'].where(pred_df['est']<=threshold, 0, inplace=True)\n",
    "\n",
    "    return pred_df['r_ui'], pred_df['est'], \n",
    "\n",
    "true_r, est = make_binary_tpr_fpr(predictions)\n"
   ]
  },
  {
   "cell_type": "code",
   "execution_count": 23,
   "metadata": {},
   "outputs": [
    {
     "data": {
      "text/plain": [
       "0.5721957773860046"
      ]
     },
     "execution_count": 23,
     "metadata": {},
     "output_type": "execute_result"
    }
   ],
   "source": [
    "fpr, tpr, thresholds = roc_curve(true_r, est)\n"
   ]
  },
  {
   "cell_type": "code",
   "execution_count": 25,
   "metadata": {},
   "outputs": [
    {
     "data": {
      "image/png": "[encoded data removed]",
      "text/plain": [
       "<Figure size 432x288 with 1 Axes>"
      ]
     },
     "metadata": {
      "needs_background": "light"
     },
     "output_type": "display_data"
    }
   ],
   "source": [
    "def graph_roc (true_r, est):\n",
    "    \n",
    "    fpr, tpr, thresholds = roc_curve(true_r, est)\n",
    "    auc_ = auc(fpr, tpr)\n",
    "    plt.plot(fpr,tpr, '-')\n",
    "    plt.ylabel(\"FPR/Precision Scores\")\n",
    "    plt.xlabel(\"TPR/Recall Scores\")\n",
    "    plt.title(\"ROC Scores and Auc of \" + str(round(auc_, 2)))\n",
    "    plt.show()\n",
    "    \n",
    "graph_roc(true_r, est)"
   ]
  },
  {
   "cell_type": "code",
   "execution_count": 26,
   "metadata": {},
   "outputs": [
    {
     "name": "stdout",
     "output_type": "stream",
     "text": [
      "Precision and Recall averages are 0.8814525166412194 and 0.8182442014535043, respectively\n"
     ]
    }
   ],
   "source": [
    "precision_average = sum(prec_to_ave)/len(prec_to_ave)\n",
    "recall_average = sum(rec_to_ave)/len(prec_to_ave)\n",
    "\n",
    "print(\"Precision and Recall averages are {0} and {1}, respectively\".format(precision_average, recall_average))"
   ]
  },
  {
   "cell_type": "markdown",
   "metadata": {},
   "source": [
    "## Precision and Recall values using User-Average Ratings as a Threshold"
   ]
  },
  {
   "cell_type": "code",
   "execution_count": 27,
   "metadata": {},
   "outputs": [],
   "source": [
    "def precision_recall_at_k(predictions, threshold_dictionary, k=10):\n",
    "    '''Return precision and recall at k metrics for each user.'''\n",
    "\n",
    "    # First map the predictions to each user.\n",
    "    user_est_true = defaultdict(list)\n",
    "    for uid, _, true_r, est, _ in predictions:\n",
    "        user_est_true[uid].append((est, true_r))\n",
    "\n",
    "    precisions = dict()\n",
    "    recalls = dict()\n",
    "    for uid, user_ratings in user_est_true.items():\n",
    "        threshold = threshold_dictionary[uid]\n",
    "\n",
    "        # Sort user ratings by estimated value\n",
    "        user_ratings.sort(key=lambda x: x[0], reverse=True)\n",
    "\n",
    "        # Number of relevant items\n",
    "        n_rel = sum((true_r >= threshold) for (_, true_r) in user_ratings)\n",
    "\n",
    "        # Number of recommended items in top k\n",
    "        n_rec_k = sum((est >= threshold) for (est, _) in user_ratings[:k])\n",
    "\n",
    "        # Number of relevant and recommended items in top k\n",
    "        n_rel_and_rec_k = sum(((true_r >= threshold) and (est >= threshold))\n",
    "                              for (est, true_r) in user_ratings[:k])\n",
    "\n",
    "        # Precision@K: Proportion of recommended items that are relevant\n",
    "        precisions[uid] = n_rel_and_rec_k / n_rec_k if n_rec_k != 0 else 1\n",
    "\n",
    "        # Recall@K: Proportion of relevant items that are recommended\n",
    "        recalls[uid] = n_rel_and_rec_k / n_rel if n_rel != 0 else 1\n",
    "\n",
    "    return precisions, recalls\n",
    "\n",
    "\n",
    "\n",
    "kf = KFold(n_splits=5)\n",
    "algo = SVD()\n",
    "\n",
    "for trainset, testset in kf.split(data):\n",
    "    algo.fit(trainset)\n",
    "    predictions = algo.test(testset)\n",
    "    precisions, recalls = precision_recall_at_k(predictions, threshold_diction, k=5)\n",
    "\n",
    "    # Precision and recall can then be averaged over all users\n",
    "  \n",
    "    prec_to_ave.append(sum(prec for prec in precisions.values()) / len(precisions))\n",
    "    rec_to_ave.append(sum(rec for rec in recalls.values()) / len(recalls))"
   ]
  },
  {
   "cell_type": "code",
   "execution_count": 28,
   "metadata": {},
   "outputs": [
    {
     "name": "stdout",
     "output_type": "stream",
     "text": [
      "Precision and Recall averages are 0.8441215286813559.2f and 0.8742310835448261.2f, respectively\n"
     ]
    }
   ],
   "source": [
    "precision_average = sum(prec_to_ave)/len(prec_to_ave)\n",
    "recall_average = sum(rec_to_ave)/len(prec_to_ave)\n",
    "\n",
    "print(\"Precision and Recall averages are {0}.2f and {1}.2f, respectively\".format(precision_average, recall_average))"
   ]
  },
  {
   "cell_type": "code",
   "execution_count": 29,
   "metadata": {},
   "outputs": [],
   "source": [
    "def make_binary_tpr_fpr_user(predictions, threshold_diction):\n",
    "    \n",
    "    pred_df = pd.DataFrame(predictions)\n",
    "    \n",
    "    pred_df['threshold'] = pred_df['uid'].map(threshold_diction)\n",
    "    pred_df['r_ui'].where(pred_df['r_ui']>=pred_df['threshold'], 1, inplace=True)\n",
    "    pred_df['r_ui'].where(pred_df['r_ui']<pred_df['threshold'], 0, inplace=True)\n",
    "    pred_df['est'].where(pred_df['est']>=pred_df['threshold'], 1, inplace=True)\n",
    "    pred_df['est'].where(pred_df['est']<pred_df['threshold'], 0, inplace=True)\n",
    "    \n",
    "    return pred_df['r_ui'], pred_df['est']\n",
    "\n",
    "true_r_ut, est_ut = make_binary_tpr_fpr_user(predictions, threshold_diction)"
   ]
  },
  {
   "cell_type": "code",
   "execution_count": 30,
   "metadata": {},
   "outputs": [
    {
     "data": {
      "image/png": "[encoded data removed]",
      "text/plain": [
       "<Figure size 432x288 with 1 Axes>"
      ]
     },
     "metadata": {
      "needs_background": "light"
     },
     "output_type": "display_data"
    }
   ],
   "source": [
    "graph_roc(true_r_ut, est_ut)"
   ]
  },
  {
   "cell_type": "code",
   "execution_count": null,
   "metadata": {},
   "outputs": [],
   "source": []
  }
 ],
 "metadata": {
  "kernelspec": {
   "display_name": "Python 3",
   "language": "python",
   "name": "python3"
  },
  "language_info": {
   "codemirror_mode": {
    "name": "ipython",
    "version": 3
   },
   "file_extension": ".py",
   "mimetype": "text/x-python",
   "name": "python",
   "nbconvert_exporter": "python",
   "pygments_lexer": "ipython3",
   "version": "3.7.3"
  }
 },
 "nbformat": 4,
 "nbformat_minor": 2
}
