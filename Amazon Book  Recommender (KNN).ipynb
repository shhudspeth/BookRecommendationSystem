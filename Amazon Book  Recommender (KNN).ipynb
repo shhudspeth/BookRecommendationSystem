{
 "cells": [
  {
   "cell_type": "markdown",
   "metadata": {},
   "source": [
    "# Book Recommendation System"
   ]
  },
  {
   "cell_type": "markdown",
   "metadata": {},
   "source": [
    "#### Credit for making a sparse table comes from this article:\n",
    "https://towardsdatascience.com/how-did-we-build-book-recommender-systems-in-an-hour-part-2-k-nearest-neighbors-and-matrix-c04b3c2ef55c"
   ]
  },
  {
   "cell_type": "markdown",
   "metadata": {},
   "source": [
    "## Load Libraries and Pre-processing Data"
   ]
  },
  {
   "cell_type": "code",
   "execution_count": 1,
   "metadata": {},
   "outputs": [],
   "source": [
    "import json\n",
    "import pandas as pd\n",
    "import numpy as np\n",
    "from scipy.sparse import csr_matrix\n",
    "import sklearn"
   ]
  },
  {
   "cell_type": "code",
   "execution_count": 3,
   "metadata": {},
   "outputs": [],
   "source": [
    "data = []\n",
    "\n",
    "for line in open('reviews_Books_5.json','r'): \n",
    "    if len(data) < 1000000:\n",
    "        data.append(json.loads(line))    "
   ]
  },
  {
   "cell_type": "code",
   "execution_count": 6,
   "metadata": {},
   "outputs": [
    {
     "data": {
      "text/plain": [
       "{'reviewerID': 'A10000012B7CGYKOMPQ4L',\n",
       " 'asin': '000100039X',\n",
       " 'reviewerName': 'Adam',\n",
       " 'helpful': [0, 0],\n",
       " 'reviewText': 'Spiritually and mentally inspiring! A book that allows you to question your morals and will help you discover who you really are!',\n",
       " 'overall': 5.0,\n",
       " 'summary': 'Wonderful!',\n",
       " 'unixReviewTime': 1355616000,\n",
       " 'reviewTime': '12 16, 2012'}"
      ]
     },
     "execution_count": 6,
     "metadata": {},
     "output_type": "execute_result"
    }
   ],
   "source": [
    "data[0]"
   ]
  },
  {
   "cell_type": "code",
   "execution_count": null,
   "metadata": {},
   "outputs": [],
   "source": [
    "# skip header info\n",
    "data = data[1:]"
   ]
  },
  {
   "cell_type": "code",
   "execution_count": 7,
   "metadata": {},
   "outputs": [
    {
     "data": {
      "text/html": [
       "<div>\n",
       "<style scoped>\n",
       "    .dataframe tbody tr th:only-of-type {\n",
       "        vertical-align: middle;\n",
       "    }\n",
       "\n",
       "    .dataframe tbody tr th {\n",
       "        vertical-align: top;\n",
       "    }\n",
       "\n",
       "    .dataframe thead th {\n",
       "        text-align: right;\n",
       "    }\n",
       "</style>\n",
       "<table border=\"1\" class=\"dataframe\">\n",
       "  <thead>\n",
       "    <tr style=\"text-align: right;\">\n",
       "      <th></th>\n",
       "      <th>asin</th>\n",
       "      <th>helpful</th>\n",
       "      <th>overall</th>\n",
       "      <th>reviewText</th>\n",
       "      <th>reviewTime</th>\n",
       "      <th>reviewerID</th>\n",
       "      <th>reviewerName</th>\n",
       "      <th>summary</th>\n",
       "      <th>unixReviewTime</th>\n",
       "    </tr>\n",
       "  </thead>\n",
       "  <tbody>\n",
       "    <tr>\n",
       "      <th>0</th>\n",
       "      <td>000100039X</td>\n",
       "      <td>[0, 0]</td>\n",
       "      <td>5.0</td>\n",
       "      <td>Spiritually and mentally inspiring! A book tha...</td>\n",
       "      <td>12 16, 2012</td>\n",
       "      <td>A10000012B7CGYKOMPQ4L</td>\n",
       "      <td>Adam</td>\n",
       "      <td>Wonderful!</td>\n",
       "      <td>1355616000</td>\n",
       "    </tr>\n",
       "    <tr>\n",
       "      <th>1</th>\n",
       "      <td>000100039X</td>\n",
       "      <td>[0, 2]</td>\n",
       "      <td>5.0</td>\n",
       "      <td>This is one my must have books. It is a master...</td>\n",
       "      <td>12 11, 2003</td>\n",
       "      <td>A2S166WSCFIFP5</td>\n",
       "      <td>adead_poet@hotmail.com \"adead_poet@hotmail.com\"</td>\n",
       "      <td>close to god</td>\n",
       "      <td>1071100800</td>\n",
       "    </tr>\n",
       "    <tr>\n",
       "      <th>2</th>\n",
       "      <td>000100039X</td>\n",
       "      <td>[0, 0]</td>\n",
       "      <td>5.0</td>\n",
       "      <td>This book provides a reflection that you can a...</td>\n",
       "      <td>01 18, 2014</td>\n",
       "      <td>A1BM81XB4QHOA3</td>\n",
       "      <td>Ahoro Blethends \"Seriously\"</td>\n",
       "      <td>Must Read for Life Afficianados</td>\n",
       "      <td>1390003200</td>\n",
       "    </tr>\n",
       "    <tr>\n",
       "      <th>3</th>\n",
       "      <td>000100039X</td>\n",
       "      <td>[0, 0]</td>\n",
       "      <td>5.0</td>\n",
       "      <td>I first read THE PROPHET in college back in th...</td>\n",
       "      <td>09 27, 2011</td>\n",
       "      <td>A1MOSTXNIO5MPJ</td>\n",
       "      <td>Alan Krug</td>\n",
       "      <td>Timeless for every good and bad time in your l...</td>\n",
       "      <td>1317081600</td>\n",
       "    </tr>\n",
       "    <tr>\n",
       "      <th>4</th>\n",
       "      <td>000100039X</td>\n",
       "      <td>[7, 9]</td>\n",
       "      <td>5.0</td>\n",
       "      <td>A timeless classic.  It is a very demanding an...</td>\n",
       "      <td>10 7, 2002</td>\n",
       "      <td>A2XQ5LZHTD4AFT</td>\n",
       "      <td>Alaturka</td>\n",
       "      <td>A Modern Rumi</td>\n",
       "      <td>1033948800</td>\n",
       "    </tr>\n",
       "  </tbody>\n",
       "</table>\n",
       "</div>"
      ],
      "text/plain": [
       "         asin helpful  overall  \\\n",
       "0  000100039X  [0, 0]      5.0   \n",
       "1  000100039X  [0, 2]      5.0   \n",
       "2  000100039X  [0, 0]      5.0   \n",
       "3  000100039X  [0, 0]      5.0   \n",
       "4  000100039X  [7, 9]      5.0   \n",
       "\n",
       "                                          reviewText   reviewTime  \\\n",
       "0  Spiritually and mentally inspiring! A book tha...  12 16, 2012   \n",
       "1  This is one my must have books. It is a master...  12 11, 2003   \n",
       "2  This book provides a reflection that you can a...  01 18, 2014   \n",
       "3  I first read THE PROPHET in college back in th...  09 27, 2011   \n",
       "4  A timeless classic.  It is a very demanding an...   10 7, 2002   \n",
       "\n",
       "              reviewerID                                     reviewerName  \\\n",
       "0  A10000012B7CGYKOMPQ4L                                             Adam   \n",
       "1         A2S166WSCFIFP5  adead_poet@hotmail.com \"adead_poet@hotmail.com\"   \n",
       "2         A1BM81XB4QHOA3                      Ahoro Blethends \"Seriously\"   \n",
       "3         A1MOSTXNIO5MPJ                                        Alan Krug   \n",
       "4         A2XQ5LZHTD4AFT                                         Alaturka   \n",
       "\n",
       "                                             summary  unixReviewTime  \n",
       "0                                         Wonderful!      1355616000  \n",
       "1                                       close to god      1071100800  \n",
       "2                    Must Read for Life Afficianados      1390003200  \n",
       "3  Timeless for every good and bad time in your l...      1317081600  \n",
       "4                                      A Modern Rumi      1033948800  "
      ]
     },
     "execution_count": 7,
     "metadata": {},
     "output_type": "execute_result"
    }
   ],
   "source": [
    "# load json data into pandas Dataframe\n",
    "df = pd.DataFrame(data)\n",
    "df.head()"
   ]
  },
  {
   "cell_type": "code",
   "execution_count": 8,
   "metadata": {},
   "outputs": [],
   "source": [
    "# save dataframe to csv for easier loading \n",
    "df.to_csv(\"books.csv\")"
   ]
  },
  {
   "cell_type": "code",
   "execution_count": 9,
   "metadata": {},
   "outputs": [],
   "source": [
    "# load data from csv for EDA\n",
    "df = pd.read_csv('books.csv')"
   ]
  },
  {
   "cell_type": "markdown",
   "metadata": {},
   "source": [
    "## Processes the CSV file and creates the DF needed to make a pivot table"
   ]
  },
  {
   "cell_type": "code",
   "execution_count": 36,
   "metadata": {},
   "outputs": [
    {
     "name": "stderr",
     "output_type": "stream",
     "text": [
      "/Users/dingcaho.zhang/anaconda3/lib/python3.7/site-packages/ipykernel_launcher.py:7: SettingWithCopyWarning: \n",
      "A value is trying to be set on a copy of a slice from a DataFrame.\n",
      "Try using .loc[row_indexer,col_indexer] = value instead\n",
      "\n",
      "See the caveats in the documentation: http://pandas.pydata.org/pandas-docs/stable/indexing.html#indexing-view-versus-copy\n",
      "  import sys\n"
     ]
    }
   ],
   "source": [
    "def top_reviewed_books (file, threshold):\n",
    "    # function loads the csv file to use, drops columns, finds reviews that are above a threshold count\n",
    "    # returns a dataframe with only review informations for the most reviewed books\n",
    "    df = pd.read_csv(file)\n",
    "    rating_df = df[['asin', 'reviewerID', 'overall']]\n",
    "    pop_rating = rating_df.groupby(['asin']).count().rename(columns = {'overall':'review_count'})\n",
    "    rating_df['review_count'] = rating_df['asin'].apply(lambda x: pop_rating['review_count'][x])\n",
    "    good_rating_df = rating_df[rating_df['review_count']>threshold].copy()\n",
    "    good_rating_df.drop(columns = ['review_count'], inplace=True)\n",
    "    \n",
    "    return good_rating_df\n",
    "\n",
    "rating_pivot = top_reviewed_books('books.csv', 359)"
   ]
  },
  {
   "cell_type": "markdown",
   "metadata": {},
   "source": [
    "### Pivot Table"
   ]
  },
  {
   "cell_type": "code",
   "execution_count": 37,
   "metadata": {},
   "outputs": [],
   "source": [
    "rating_pivot_x = rating_pivot.pivot(index = 'asin', columns = 'reviewerID', values = 'overall')"
   ]
  },
  {
   "cell_type": "code",
   "execution_count": 19,
   "metadata": {},
   "outputs": [
    {
     "data": {
      "text/plain": [
       "303185676"
      ]
     },
     "execution_count": 19,
     "metadata": {},
     "output_type": "execute_result"
    }
   ],
   "source": [
    "import sys\n",
    "sys.getsizeof(rating_pivot_x)"
   ]
  },
  {
   "cell_type": "code",
   "execution_count": 38,
   "metadata": {},
   "outputs": [],
   "source": [
    "rating_pivot_x = rating_pivot_x.fillna(0)"
   ]
  },
  {
   "cell_type": "markdown",
   "metadata": {},
   "source": [
    "### Utility (Sparse) Matrix"
   ]
  },
  {
   "cell_type": "code",
   "execution_count": 16,
   "metadata": {},
   "outputs": [],
   "source": [
    "util_matrix = csr_matrix(rating_pivot_x.values)"
   ]
  },
  {
   "cell_type": "markdown",
   "metadata": {},
   "source": [
    "### KNN Modeling"
   ]
  },
  {
   "cell_type": "code",
   "execution_count": 27,
   "metadata": {},
   "outputs": [],
   "source": [
    "from sklearn.neighbors import NearestNeighbors"
   ]
  },
  {
   "cell_type": "code",
   "execution_count": 28,
   "metadata": {},
   "outputs": [
    {
     "data": {
      "text/plain": [
       "NearestNeighbors(algorithm='brute', leaf_size=30, metric='cosine',\n",
       "                 metric_params=None, n_jobs=None, n_neighbors=5, p=2,\n",
       "                 radius=1.0)"
      ]
     },
     "execution_count": 28,
     "metadata": {},
     "output_type": "execute_result"
    }
   ],
   "source": [
    "model_knn = NearestNeighbors(metric='cosine', algorithm = 'brute')\n",
    "model_knn.fit(util_matrix)"
   ]
  },
  {
   "cell_type": "markdown",
   "metadata": {},
   "source": [
    "### Setting up Random tests for Recommendations"
   ]
  },
  {
   "cell_type": "code",
   "execution_count": 30,
   "metadata": {},
   "outputs": [],
   "source": [
    "query_index = np.random.choice(util_matrix.shape[0])"
   ]
  },
  {
   "cell_type": "code",
   "execution_count": 49,
   "metadata": {},
   "outputs": [],
   "source": [
    "distance, indices = model_knn.kneighbors(util_matrix.toarray()[query_index, :].reshape(1,-1), n_neighbors=6)"
   ]
  },
  {
   "cell_type": "markdown",
   "metadata": {},
   "source": [
    "### Finding the Book name as data is in ISBN -10"
   ]
  },
  {
   "cell_type": "code",
   "execution_count": 50,
   "metadata": {},
   "outputs": [],
   "source": [
    "import requests\n",
    "import re\n",
    "\n",
    "def get_response(url):\n",
    "    response = requests.get(url)\n",
    "    # print('Acquired following info about the book {}'.format(response.text))\n",
    "    json_data = json.loads(response.text)\n",
    "    return json_data                              \n",
    "                    \n",
    "    \n",
    "def get_title_of_book(text):\n",
    "    title_ =[]\n",
    "    for x in text.keys():\n",
    "        # print(x)\n",
    "        title_.append(text[x]['title'])\n",
    "    return title_\n",
    "    \n",
    "    \n",
    "def form_url(ISBN=None):\n",
    "    \"\"\"Formulate an url that will be sent to openlibrary.org/api'.\n",
    "\n",
    "    Parameters\n",
    "    ----------\n",
    "    ISBN : string\n",
    "        a string of book's ISBN.\n",
    "\n",
    "    Returns\n",
    "    -------\n",
    "    string\n",
    "        An url that will be sent to openlibrary/org/api.\n",
    "\n",
    "    \"\"\"\n",
    "    url = 'https://openlibrary.org/api/books?bibkeys=ISBN:' + \\\n",
    "        ISBN + '&jscmd=data&format=json'\n",
    "\n",
    "    return url\n",
    "\n",
    "def get_book_names():\n",
    "    book_names = []\n",
    "    for i in range(len(distance.flatten())):\n",
    "        ISBN = rating_pivot_x.index[indices.flatten()[i]]\n",
    "        url = form_url(ISBN)\n",
    "        text = get_response(url)\n",
    "        name_of_book = get_title_of_book(text)\n",
    "        if len(name_of_book) > 1:\n",
    "            book_names.append(name_of_book)\n",
    "        else:\n",
    "            book_names.append(ISBN)\n",
    "    return(book_names)"
   ]
  },
  {
   "cell_type": "markdown",
   "metadata": {},
   "source": [
    "## Following up with KNN and Book Names"
   ]
  },
  {
   "cell_type": "code",
   "execution_count": 51,
   "metadata": {},
   "outputs": [
    {
     "name": "stdout",
     "output_type": "stream",
     "text": [
      "Recommendations for ['Marley & Me']:\n",
      "\n",
      "1:[\"The Memory Keeper's Daughter\"] with distances of 0.9387498300776762\n",
      "2:['Night'] with distances of 0.9437722045086124\n",
      "3:['Water for Elephants'] with distances of 0.9485648623090394\n",
      "4:['The curious incident of the dog in the night-time'] with distances of 0.9509469360942313\n",
      "5:['The art of racing in the rain'] with distances of 0.9559398303278569\n"
     ]
    }
   ],
   "source": [
    "book_names = []\n",
    "\n",
    "for i in range(len(distance.flatten())):\n",
    "    ISBN = rating_pivot_x.index[indices.flatten()[i]]\n",
    "    url = form_url(ISBN)\n",
    "    text = get_response(url)\n",
    "    name_of_book = get_title_of_book(text)\n",
    "    if len(name_of_book) > 0:\n",
    "        book_names.append(name_of_book)\n",
    "    else:\n",
    "        book_names.append(ISBN)\n",
    "\n",
    "for i in range(len(distance.flatten())):\n",
    "    if i==0:\n",
    "        print('Recommendations for {0}:\\n'.format(book_names[i]))\n",
    "    else:\n",
    "        print(\"{0}:{1} with distances of {2}\".format(i, book_names[i], \n",
    "                                                     distance.flatten()[i]))"
   ]
  },
  {
   "cell_type": "code",
   "execution_count": null,
   "metadata": {},
   "outputs": [],
   "source": []
  }
 ],
 "metadata": {
  "kernelspec": {
   "display_name": "Python 3",
   "language": "python",
   "name": "python3"
  },
  "language_info": {
   "codemirror_mode": {
    "name": "ipython",
    "version": 3
   },
   "file_extension": ".py",
   "mimetype": "text/x-python",
   "name": "python",
   "nbconvert_exporter": "python",
   "pygments_lexer": "ipython3",
   "version": "3.7.4"
  }
 },
 "nbformat": 4,
 "nbformat_minor": 2
}
