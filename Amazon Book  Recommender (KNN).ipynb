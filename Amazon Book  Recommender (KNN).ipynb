{
 "cells": [
  {
   "cell_type": "markdown",
   "metadata": {},
   "source": [
    "# Book Recommendation System"
   ]
  },
  {
   "cell_type": "markdown",
   "metadata": {},
   "source": [
    "#### Credit for making a sparse table comes from this article:\n",
    "https://towardsdatascience.com/how-did-we-build-book-recommender-systems-in-an-hour-part-2-k-nearest-neighbors-and-matrix-c04b3c2ef55c"
   ]
  },
  {
   "cell_type": "markdown",
   "metadata": {},
   "source": [
    "## Load Libraries and pre-process Data"
   ]
  },
  {
   "cell_type": "code",
   "execution_count": 4,
   "metadata": {},
   "outputs": [],
   "source": [
    "import json\n",
    "import pandas as pd\n",
    "import numpy as np\n",
    "from scipy.sparse import csr_matrix\n",
    "import sklearn"
   ]
  },
  {
   "cell_type": "code",
   "execution_count": 2,
   "metadata": {},
   "outputs": [
    {
     "ename": "KeyboardInterrupt",
     "evalue": "",
     "output_type": "error",
     "traceback": [
      "\u001b[0;31m---------------------------------------------------------------------------\u001b[0m",
      "\u001b[0;31mKeyboardInterrupt\u001b[0m                         Traceback (most recent call last)",
      "\u001b[0;32m<ipython-input-2-3a03ccf336c0>\u001b[0m in \u001b[0;36m<module>\u001b[0;34m()\u001b[0m\n\u001b[1;32m      3\u001b[0m \u001b[0;32mfor\u001b[0m \u001b[0mline\u001b[0m \u001b[0;32min\u001b[0m \u001b[0mopen\u001b[0m\u001b[0;34m(\u001b[0m\u001b[0;34m'reviews_Books_5.json'\u001b[0m\u001b[0;34m,\u001b[0m\u001b[0;34m'r'\u001b[0m\u001b[0;34m)\u001b[0m\u001b[0;34m:\u001b[0m\u001b[0;34m\u001b[0m\u001b[0;34m\u001b[0m\u001b[0m\n\u001b[1;32m      4\u001b[0m     \u001b[0;32mif\u001b[0m \u001b[0mlen\u001b[0m\u001b[0;34m(\u001b[0m\u001b[0mdata\u001b[0m\u001b[0;34m)\u001b[0m \u001b[0;34m<\u001b[0m \u001b[0;36m1000000\u001b[0m\u001b[0;34m:\u001b[0m\u001b[0;34m\u001b[0m\u001b[0;34m\u001b[0m\u001b[0m\n\u001b[0;32m----> 5\u001b[0;31m         \u001b[0mdata\u001b[0m\u001b[0;34m.\u001b[0m\u001b[0mappend\u001b[0m\u001b[0;34m(\u001b[0m\u001b[0mjson\u001b[0m\u001b[0;34m.\u001b[0m\u001b[0mloads\u001b[0m\u001b[0;34m(\u001b[0m\u001b[0mline\u001b[0m\u001b[0;34m)\u001b[0m\u001b[0;34m)\u001b[0m\u001b[0;34m\u001b[0m\u001b[0;34m\u001b[0m\u001b[0m\n\u001b[0m",
      "\u001b[0;32m/usr/local/Cellar/python/3.7.3/Frameworks/Python.framework/Versions/3.7/lib/python3.7/json/__init__.py\u001b[0m in \u001b[0;36mloads\u001b[0;34m(s, encoding, cls, object_hook, parse_float, parse_int, parse_constant, object_pairs_hook, **kw)\u001b[0m\n\u001b[1;32m    346\u001b[0m             \u001b[0mparse_int\u001b[0m \u001b[0;32mis\u001b[0m \u001b[0;32mNone\u001b[0m \u001b[0;32mand\u001b[0m \u001b[0mparse_float\u001b[0m \u001b[0;32mis\u001b[0m \u001b[0;32mNone\u001b[0m \u001b[0;32mand\u001b[0m\u001b[0;34m\u001b[0m\u001b[0;34m\u001b[0m\u001b[0m\n\u001b[1;32m    347\u001b[0m             parse_constant is None and object_pairs_hook is None and not kw):\n\u001b[0;32m--> 348\u001b[0;31m         \u001b[0;32mreturn\u001b[0m \u001b[0m_default_decoder\u001b[0m\u001b[0;34m.\u001b[0m\u001b[0mdecode\u001b[0m\u001b[0;34m(\u001b[0m\u001b[0ms\u001b[0m\u001b[0;34m)\u001b[0m\u001b[0;34m\u001b[0m\u001b[0;34m\u001b[0m\u001b[0m\n\u001b[0m\u001b[1;32m    349\u001b[0m     \u001b[0;32mif\u001b[0m \u001b[0mcls\u001b[0m \u001b[0;32mis\u001b[0m \u001b[0;32mNone\u001b[0m\u001b[0;34m:\u001b[0m\u001b[0;34m\u001b[0m\u001b[0;34m\u001b[0m\u001b[0m\n\u001b[1;32m    350\u001b[0m         \u001b[0mcls\u001b[0m \u001b[0;34m=\u001b[0m \u001b[0mJSONDecoder\u001b[0m\u001b[0;34m\u001b[0m\u001b[0;34m\u001b[0m\u001b[0m\n",
      "\u001b[0;32m/usr/local/Cellar/python/3.7.3/Frameworks/Python.framework/Versions/3.7/lib/python3.7/json/decoder.py\u001b[0m in \u001b[0;36mdecode\u001b[0;34m(self, s, _w)\u001b[0m\n\u001b[1;32m    335\u001b[0m \u001b[0;34m\u001b[0m\u001b[0m\n\u001b[1;32m    336\u001b[0m         \"\"\"\n\u001b[0;32m--> 337\u001b[0;31m         \u001b[0mobj\u001b[0m\u001b[0;34m,\u001b[0m \u001b[0mend\u001b[0m \u001b[0;34m=\u001b[0m \u001b[0mself\u001b[0m\u001b[0;34m.\u001b[0m\u001b[0mraw_decode\u001b[0m\u001b[0;34m(\u001b[0m\u001b[0ms\u001b[0m\u001b[0;34m,\u001b[0m \u001b[0midx\u001b[0m\u001b[0;34m=\u001b[0m\u001b[0m_w\u001b[0m\u001b[0;34m(\u001b[0m\u001b[0ms\u001b[0m\u001b[0;34m,\u001b[0m \u001b[0;36m0\u001b[0m\u001b[0;34m)\u001b[0m\u001b[0;34m.\u001b[0m\u001b[0mend\u001b[0m\u001b[0;34m(\u001b[0m\u001b[0;34m)\u001b[0m\u001b[0;34m)\u001b[0m\u001b[0;34m\u001b[0m\u001b[0;34m\u001b[0m\u001b[0m\n\u001b[0m\u001b[1;32m    338\u001b[0m         \u001b[0mend\u001b[0m \u001b[0;34m=\u001b[0m \u001b[0m_w\u001b[0m\u001b[0;34m(\u001b[0m\u001b[0ms\u001b[0m\u001b[0;34m,\u001b[0m \u001b[0mend\u001b[0m\u001b[0;34m)\u001b[0m\u001b[0;34m.\u001b[0m\u001b[0mend\u001b[0m\u001b[0;34m(\u001b[0m\u001b[0;34m)\u001b[0m\u001b[0;34m\u001b[0m\u001b[0;34m\u001b[0m\u001b[0m\n\u001b[1;32m    339\u001b[0m         \u001b[0;32mif\u001b[0m \u001b[0mend\u001b[0m \u001b[0;34m!=\u001b[0m \u001b[0mlen\u001b[0m\u001b[0;34m(\u001b[0m\u001b[0ms\u001b[0m\u001b[0;34m)\u001b[0m\u001b[0;34m:\u001b[0m\u001b[0;34m\u001b[0m\u001b[0;34m\u001b[0m\u001b[0m\n",
      "\u001b[0;32m/usr/local/Cellar/python/3.7.3/Frameworks/Python.framework/Versions/3.7/lib/python3.7/json/decoder.py\u001b[0m in \u001b[0;36mraw_decode\u001b[0;34m(self, s, idx)\u001b[0m\n\u001b[1;32m    351\u001b[0m         \"\"\"\n\u001b[1;32m    352\u001b[0m         \u001b[0;32mtry\u001b[0m\u001b[0;34m:\u001b[0m\u001b[0;34m\u001b[0m\u001b[0;34m\u001b[0m\u001b[0m\n\u001b[0;32m--> 353\u001b[0;31m             \u001b[0mobj\u001b[0m\u001b[0;34m,\u001b[0m \u001b[0mend\u001b[0m \u001b[0;34m=\u001b[0m \u001b[0mself\u001b[0m\u001b[0;34m.\u001b[0m\u001b[0mscan_once\u001b[0m\u001b[0;34m(\u001b[0m\u001b[0ms\u001b[0m\u001b[0;34m,\u001b[0m \u001b[0midx\u001b[0m\u001b[0;34m)\u001b[0m\u001b[0;34m\u001b[0m\u001b[0;34m\u001b[0m\u001b[0m\n\u001b[0m\u001b[1;32m    354\u001b[0m         \u001b[0;32mexcept\u001b[0m \u001b[0mStopIteration\u001b[0m \u001b[0;32mas\u001b[0m \u001b[0merr\u001b[0m\u001b[0;34m:\u001b[0m\u001b[0;34m\u001b[0m\u001b[0;34m\u001b[0m\u001b[0m\n\u001b[1;32m    355\u001b[0m             \u001b[0;32mraise\u001b[0m \u001b[0mJSONDecodeError\u001b[0m\u001b[0;34m(\u001b[0m\u001b[0;34m\"Expecting value\"\u001b[0m\u001b[0;34m,\u001b[0m \u001b[0ms\u001b[0m\u001b[0;34m,\u001b[0m \u001b[0merr\u001b[0m\u001b[0;34m.\u001b[0m\u001b[0mvalue\u001b[0m\u001b[0;34m)\u001b[0m \u001b[0;32mfrom\u001b[0m \u001b[0;32mNone\u001b[0m\u001b[0;34m\u001b[0m\u001b[0;34m\u001b[0m\u001b[0m\n",
      "\u001b[0;31mKeyboardInterrupt\u001b[0m: "
     ]
    }
   ],
   "source": [
    "def load_json_data(file):\n",
    "    data = []\n",
    "    for line in open(file,'r'): \n",
    "    if len(data) < 1000000:\n",
    "        data.append(json.loads(line))    \n",
    "    return data[1:]\n",
    "\n",
    "def make_df_and_csv_from_json(data):\n",
    "    df = pd.DataFrame(data)\n",
    "    rating_df = df[['asin', 'reviewerID', 'overall']]\n",
    "    rating_df.to_csv(\"books_ratings.csv\")\n",
    "    return df\n",
    "\n",
    "\n",
    "data = load_json_data('reviews_Books_5.json')\n",
    "df = pd.make_df_and_csv_from_json(data)"
   ]
  },
  {
   "cell_type": "code",
   "execution_count": 2,
   "metadata": {},
   "outputs": [],
   "source": [
    "df = pd.read_csv('books.csv')"
   ]
  },
  {
   "cell_type": "code",
   "execution_count": 3,
   "metadata": {},
   "outputs": [],
   "source": [
    "rating_df = df[['asin', 'reviewerID', 'overall']]\n",
    "rating_df.to_csv(\"books_ratings.csv\")"
   ]
  },
  {
   "cell_type": "markdown",
   "metadata": {},
   "source": [
    "## Processes the CSV file and creates the DF needed to make a pivot table"
   ]
  },
  {
   "cell_type": "code",
   "execution_count": 5,
   "metadata": {},
   "outputs": [],
   "source": [
    "def top_reviewed_books (file, threshold):\n",
    "    # function loads the csv file to use, drops columns, finds reviews that are above a threshold count\n",
    "    # returns a dataframe with only review informations for the most reviewed books\n",
    "    rating_df = pd.read_csv(file)\n",
    "    pop_rating = rating_df.groupby(['asin']).count().rename(columns = {'overall':'review_count'})\n",
    "    rating_df['review_count'] = rating_df['asin'].apply(lambda x: pop_rating['review_count'][x])\n",
    "    good_rating_df = rating_df[rating_df['review_count']>threshold].copy()\n",
    "    good_rating_df.drop(columns = ['review_count', 'Unnamed: 0'], inplace=True)\n",
    "    \n",
    "    return good_rating_df\n",
    "\n",
    "rating_pivot = top_reviewed_books('books_ratings.csv', 359)"
   ]
  },
  {
   "cell_type": "code",
   "execution_count": 6,
   "metadata": {},
   "outputs": [
    {
     "data": {
      "text/html": [
       "<div>\n",
       "<style scoped>\n",
       "    .dataframe tbody tr th:only-of-type {\n",
       "        vertical-align: middle;\n",
       "    }\n",
       "\n",
       "    .dataframe tbody tr th {\n",
       "        vertical-align: top;\n",
       "    }\n",
       "\n",
       "    .dataframe thead th {\n",
       "        text-align: right;\n",
       "    }\n",
       "</style>\n",
       "<table border=\"1\" class=\"dataframe\">\n",
       "  <thead>\n",
       "    <tr style=\"text-align: right;\">\n",
       "      <th></th>\n",
       "      <th>asin</th>\n",
       "      <th>reviewerID</th>\n",
       "      <th>overall</th>\n",
       "    </tr>\n",
       "  </thead>\n",
       "  <tbody>\n",
       "    <tr>\n",
       "      <th>314</th>\n",
       "      <td>0002007770</td>\n",
       "      <td>A35VAQCQ4U28V7</td>\n",
       "      <td>2.0</td>\n",
       "    </tr>\n",
       "    <tr>\n",
       "      <th>315</th>\n",
       "      <td>0002007770</td>\n",
       "      <td>APBA7Y4SINS0H</td>\n",
       "      <td>1.0</td>\n",
       "    </tr>\n",
       "    <tr>\n",
       "      <th>316</th>\n",
       "      <td>0002007770</td>\n",
       "      <td>A3FVQCS5Q09W9N</td>\n",
       "      <td>5.0</td>\n",
       "    </tr>\n",
       "    <tr>\n",
       "      <th>317</th>\n",
       "      <td>0002007770</td>\n",
       "      <td>A22019GDU7OVFG</td>\n",
       "      <td>5.0</td>\n",
       "    </tr>\n",
       "    <tr>\n",
       "      <th>318</th>\n",
       "      <td>0002007770</td>\n",
       "      <td>A1X3ASRHM5ZF8K</td>\n",
       "      <td>3.0</td>\n",
       "    </tr>\n",
       "  </tbody>\n",
       "</table>\n",
       "</div>"
      ],
      "text/plain": [
       "           asin      reviewerID  overall\n",
       "314  0002007770  A35VAQCQ4U28V7      2.0\n",
       "315  0002007770   APBA7Y4SINS0H      1.0\n",
       "316  0002007770  A3FVQCS5Q09W9N      5.0\n",
       "317  0002007770  A22019GDU7OVFG      5.0\n",
       "318  0002007770  A1X3ASRHM5ZF8K      3.0"
      ]
     },
     "execution_count": 6,
     "metadata": {},
     "output_type": "execute_result"
    }
   ],
   "source": [
    "rating_pivot.head()"
   ]
  },
  {
   "cell_type": "code",
   "execution_count": 7,
   "metadata": {},
   "outputs": [],
   "source": [
    "target= rating_pivot['overall']"
   ]
  },
  {
   "cell_type": "code",
   "execution_count": 8,
   "metadata": {},
   "outputs": [],
   "source": [
    "X_ = rating_pivot.drop(columns = ['overall'])"
   ]
  },
  {
   "cell_type": "code",
   "execution_count": 9,
   "metadata": {},
   "outputs": [
    {
     "data": {
      "text/html": [
       "<div>\n",
       "<style scoped>\n",
       "    .dataframe tbody tr th:only-of-type {\n",
       "        vertical-align: middle;\n",
       "    }\n",
       "\n",
       "    .dataframe tbody tr th {\n",
       "        vertical-align: top;\n",
       "    }\n",
       "\n",
       "    .dataframe thead th {\n",
       "        text-align: right;\n",
       "    }\n",
       "</style>\n",
       "<table border=\"1\" class=\"dataframe\">\n",
       "  <thead>\n",
       "    <tr style=\"text-align: right;\">\n",
       "      <th></th>\n",
       "      <th>asin</th>\n",
       "      <th>reviewerID</th>\n",
       "    </tr>\n",
       "  </thead>\n",
       "  <tbody>\n",
       "    <tr>\n",
       "      <th>314</th>\n",
       "      <td>0002007770</td>\n",
       "      <td>A35VAQCQ4U28V7</td>\n",
       "    </tr>\n",
       "    <tr>\n",
       "      <th>315</th>\n",
       "      <td>0002007770</td>\n",
       "      <td>APBA7Y4SINS0H</td>\n",
       "    </tr>\n",
       "    <tr>\n",
       "      <th>316</th>\n",
       "      <td>0002007770</td>\n",
       "      <td>A3FVQCS5Q09W9N</td>\n",
       "    </tr>\n",
       "    <tr>\n",
       "      <th>317</th>\n",
       "      <td>0002007770</td>\n",
       "      <td>A22019GDU7OVFG</td>\n",
       "    </tr>\n",
       "    <tr>\n",
       "      <th>318</th>\n",
       "      <td>0002007770</td>\n",
       "      <td>A1X3ASRHM5ZF8K</td>\n",
       "    </tr>\n",
       "  </tbody>\n",
       "</table>\n",
       "</div>"
      ],
      "text/plain": [
       "           asin      reviewerID\n",
       "314  0002007770  A35VAQCQ4U28V7\n",
       "315  0002007770   APBA7Y4SINS0H\n",
       "316  0002007770  A3FVQCS5Q09W9N\n",
       "317  0002007770  A22019GDU7OVFG\n",
       "318  0002007770  A1X3ASRHM5ZF8K"
      ]
     },
     "execution_count": 9,
     "metadata": {},
     "output_type": "execute_result"
    }
   ],
   "source": [
    "X_.head()"
   ]
  },
  {
   "cell_type": "code",
   "execution_count": 10,
   "metadata": {},
   "outputs": [],
   "source": [
    "unique_ids={}\n",
    "for no, rev in enumerate((X_['reviewerID'].unique())):\n",
    "    unique_ids[rev] = no"
   ]
  },
  {
   "cell_type": "code",
   "execution_count": 11,
   "metadata": {},
   "outputs": [],
   "source": [
    "X_['reviews'] = X_['reviewerID'].map(unique_ids)"
   ]
  },
  {
   "cell_type": "code",
   "execution_count": 12,
   "metadata": {},
   "outputs": [
    {
     "data": {
      "text/html": [
       "<div>\n",
       "<style scoped>\n",
       "    .dataframe tbody tr th:only-of-type {\n",
       "        vertical-align: middle;\n",
       "    }\n",
       "\n",
       "    .dataframe tbody tr th {\n",
       "        vertical-align: top;\n",
       "    }\n",
       "\n",
       "    .dataframe thead th {\n",
       "        text-align: right;\n",
       "    }\n",
       "</style>\n",
       "<table border=\"1\" class=\"dataframe\">\n",
       "  <thead>\n",
       "    <tr style=\"text-align: right;\">\n",
       "      <th></th>\n",
       "      <th>asin</th>\n",
       "      <th>reviewerID</th>\n",
       "      <th>reviews</th>\n",
       "    </tr>\n",
       "  </thead>\n",
       "  <tbody>\n",
       "    <tr>\n",
       "      <th>314</th>\n",
       "      <td>0002007770</td>\n",
       "      <td>A35VAQCQ4U28V7</td>\n",
       "      <td>0</td>\n",
       "    </tr>\n",
       "    <tr>\n",
       "      <th>315</th>\n",
       "      <td>0002007770</td>\n",
       "      <td>APBA7Y4SINS0H</td>\n",
       "      <td>1</td>\n",
       "    </tr>\n",
       "    <tr>\n",
       "      <th>316</th>\n",
       "      <td>0002007770</td>\n",
       "      <td>A3FVQCS5Q09W9N</td>\n",
       "      <td>2</td>\n",
       "    </tr>\n",
       "    <tr>\n",
       "      <th>317</th>\n",
       "      <td>0002007770</td>\n",
       "      <td>A22019GDU7OVFG</td>\n",
       "      <td>3</td>\n",
       "    </tr>\n",
       "    <tr>\n",
       "      <th>318</th>\n",
       "      <td>0002007770</td>\n",
       "      <td>A1X3ASRHM5ZF8K</td>\n",
       "      <td>4</td>\n",
       "    </tr>\n",
       "  </tbody>\n",
       "</table>\n",
       "</div>"
      ],
      "text/plain": [
       "           asin      reviewerID  reviews\n",
       "314  0002007770  A35VAQCQ4U28V7        0\n",
       "315  0002007770   APBA7Y4SINS0H        1\n",
       "316  0002007770  A3FVQCS5Q09W9N        2\n",
       "317  0002007770  A22019GDU7OVFG        3\n",
       "318  0002007770  A1X3ASRHM5ZF8K        4"
      ]
     },
     "execution_count": 12,
     "metadata": {},
     "output_type": "execute_result"
    }
   ],
   "source": [
    "X_.head()"
   ]
  },
  {
   "cell_type": "code",
   "execution_count": 13,
   "metadata": {},
   "outputs": [],
   "source": [
    "X_.drop(columns=['reviewerID'], inplace=True)"
   ]
  },
  {
   "cell_type": "code",
   "execution_count": 14,
   "metadata": {},
   "outputs": [],
   "source": [
    "find_X = lambda x: x.replace('X', '10')"
   ]
  },
  {
   "cell_type": "code",
   "execution_count": 15,
   "metadata": {},
   "outputs": [],
   "source": [
    "X_['asin'] = X_['asin'].apply(lambda x: find_X(x) if 'X' in x else x)"
   ]
  },
  {
   "cell_type": "code",
   "execution_count": 16,
   "metadata": {},
   "outputs": [],
   "source": [
    "from sklearn.model_selection import train_test_split\n",
    "\n",
    "X_train, X_test, y_train, y_test = train_test_split(X_, target, test_size=0.33, random_state=42)"
   ]
  },
  {
   "cell_type": "code",
   "execution_count": 17,
   "metadata": {},
   "outputs": [],
   "source": [
    "from sklearn.neighbors import NearestNeighbors, KNeighborsClassifier"
   ]
  },
  {
   "cell_type": "code",
   "execution_count": 18,
   "metadata": {},
   "outputs": [
    {
     "data": {
      "text/plain": [
       "KNeighborsClassifier(algorithm='brute', leaf_size=30, metric='cosine',\n",
       "           metric_params=None, n_jobs=1, n_neighbors=4, p=2,\n",
       "           weights='uniform')"
      ]
     },
     "execution_count": 18,
     "metadata": {},
     "output_type": "execute_result"
    }
   ],
   "source": [
    "model_knn = KNeighborsClassifier(n_neighbors = 4, metric='cosine', algorithm='brute')\n",
    "model_knn.fit(X_train, y_train)"
   ]
  },
  {
   "cell_type": "code",
   "execution_count": 1,
   "metadata": {},
   "outputs": [
    {
     "ename": "NameError",
     "evalue": "name 'model_knn' is not defined",
     "output_type": "error",
     "traceback": [
      "\u001b[0;31m---------------------------------------------------------------------------\u001b[0m",
      "\u001b[0;31mNameError\u001b[0m                                 Traceback (most recent call last)",
      "\u001b[0;32m<ipython-input-1-fb565cae88b1>\u001b[0m in \u001b[0;36m<module>\u001b[0;34m()\u001b[0m\n\u001b[0;32m----> 1\u001b[0;31m \u001b[0mpred_reviews\u001b[0m \u001b[0;34m=\u001b[0m \u001b[0mmodel_knn\u001b[0m\u001b[0;34m.\u001b[0m\u001b[0mpredict\u001b[0m\u001b[0;34m(\u001b[0m\u001b[0mX_test\u001b[0m\u001b[0;34m)\u001b[0m\u001b[0;34m\u001b[0m\u001b[0;34m\u001b[0m\u001b[0m\n\u001b[0m",
      "\u001b[0;31mNameError\u001b[0m: name 'model_knn' is not defined"
     ]
    }
   ],
   "source": [
    " pred_reviews = model_knn.predict(X_test)"
   ]
  },
  {
   "cell_type": "code",
   "execution_count": null,
   "metadata": {},
   "outputs": [],
   "source": [
    "model_knn.score(X_test, y_test)"
   ]
  },
  {
   "cell_type": "markdown",
   "metadata": {},
   "source": [
    "###neighbors = 5, metric mink\n",
    "model_knn.score(X_test, y_test)\n",
    "0.47"
   ]
  },
  {
   "cell_type": "markdown",
   "metadata": {},
   "source": [
    "### Pivot Table"
   ]
  },
  {
   "cell_type": "code",
   "execution_count": 6,
   "metadata": {},
   "outputs": [],
   "source": [
    "rating_pivot_x = rating_pivot.pivot(index = 'asin', columns = 'reviewerID', values = 'overall')"
   ]
  },
  {
   "cell_type": "code",
   "execution_count": 5,
   "metadata": {},
   "outputs": [],
   "source": [
    "rating_pivot_x = rating_pivot_x.fillna(0)"
   ]
  },
  {
   "cell_type": "markdown",
   "metadata": {},
   "source": [
    "### Utility (Sparse) Matrix"
   ]
  },
  {
   "cell_type": "code",
   "execution_count": 6,
   "metadata": {},
   "outputs": [],
   "source": [
    "util_matrix = csr_matrix(rating_pivot_x.values)"
   ]
  },
  {
   "cell_type": "markdown",
   "metadata": {},
   "source": [
    "### KNN Modeling"
   ]
  },
  {
   "cell_type": "code",
   "execution_count": 7,
   "metadata": {},
   "outputs": [],
   "source": [
    "from sklearn.neighbors import NearestNeighbors"
   ]
  },
  {
   "cell_type": "code",
   "execution_count": 8,
   "metadata": {},
   "outputs": [
    {
     "data": {
      "text/plain": [
       "NearestNeighbors(algorithm='brute', leaf_size=30, metric='cosine',\n",
       "         metric_params=None, n_jobs=1, n_neighbors=5, p=2, radius=1.0)"
      ]
     },
     "execution_count": 8,
     "metadata": {},
     "output_type": "execute_result"
    }
   ],
   "source": [
    "model_knn = NearestNeighbors(metric='cosine', algorithm = 'brute')\n",
    "model_knn.fit(util_matrix)"
   ]
  },
  {
   "cell_type": "markdown",
   "metadata": {},
   "source": [
    "### Setting up Random tests for Recommendations"
   ]
  },
  {
   "cell_type": "code",
   "execution_count": 92,
   "metadata": {},
   "outputs": [],
   "source": [
    "query_index = np.random.choice(rating_pivot_x.shape[0])"
   ]
  },
  {
   "cell_type": "code",
   "execution_count": 93,
   "metadata": {},
   "outputs": [],
   "source": [
    "distance, indices = model_knn.kneighbors(rating_pivot_x.iloc[query_index, :].values.reshape(1,-1), n_neighbors=6)"
   ]
  },
  {
   "cell_type": "markdown",
   "metadata": {},
   "source": [
    "### Finding the Book name as data is in ISBN -10"
   ]
  },
  {
   "cell_type": "code",
   "execution_count": 95,
   "metadata": {},
   "outputs": [],
   "source": [
    "import requests\n",
    "import re\n",
    "\n",
    "def get_response(url):\n",
    "    response = requests.get(url)\n",
    "    # print('Acquired following info about the book {}'.format(response.text))\n",
    "    json_data = json.loads(response.text)\n",
    "    return json_data                              \n",
    "                    \n",
    "    \n",
    "def get_title_of_book(text):\n",
    "    title_ =[]\n",
    "    for x in text.keys():\n",
    "        # print(x)\n",
    "        title_.append(text[x]['title'])\n",
    "    return title_\n",
    "    \n",
    "    \n",
    "def form_url(ISBN=None):\n",
    "    \"\"\"Formulate an url that will be sent to openlibrary.org/api'.\n",
    "\n",
    "    Parameters\n",
    "    ----------\n",
    "    ISBN : string\n",
    "        a string of book's ISBN.\n",
    "\n",
    "    Returns\n",
    "    -------\n",
    "    string\n",
    "        An url that will be sent to openlibrary/org/api.\n",
    "\n",
    "    \"\"\"\n",
    "    url = 'https://openlibrary.org/api/books?bibkeys=ISBN:' + \\\n",
    "        ISBN + '&jscmd=data&format=json'\n",
    "\n",
    "    return url\n",
    "\n",
    "def get_book_name(ISBN):\n",
    "        url = form_url(ISBN)\n",
    "        text = get_response(url)\n",
    "        name_of_book = get_title_of_book(text)\n",
    "        \n",
    "        return(name_of_book)\n"
   ]
  },
  {
   "cell_type": "markdown",
   "metadata": {},
   "source": [
    "## Following up with KNN and Book Names"
   ]
  },
  {
   "cell_type": "code",
   "execution_count": 106,
   "metadata": {},
   "outputs": [
    {
     "name": "stdout",
     "output_type": "stream",
     "text": [
      "0060573775\n",
      "0060890096\n",
      "0140012486\n",
      "014118776X\n",
      "0060850523\n",
      "0062314254\n",
      "Recommendations for [\"Slaughterhouse-Five (or The Children's Crusade: A Duty Dance with Death)\"]:\n",
      "\n",
      "1:['Catch-22 CD'] with distances of 0.8788552653328394\n",
      "2:['The Catcher in the Rye (Modern Classics)'] with distances of 0.8992043362015576\n",
      "3:['Nineteen Eighty-four (Penguin Modern Classics)'] with distances of 0.9010827065366002\n",
      "4:['Brave New World'] with distances of 0.9104149605988603\n",
      "5:0062314254 with distances of 0.9227942205673346\n"
     ]
    }
   ],
   "source": [
    "book_names = []\n",
    "\n",
    "for i in range(len(distance.flatten())):\n",
    "    ISBN = rating_pivot_x.index[indices.flatten()[i]]\n",
    "    print(ISBN)\n",
    "    name_of_book = get_book_name(ISBN)\n",
    "    if name_of_book:\n",
    "        book_names.append(name_of_book)\n",
    "    else:\n",
    "        book_names.append(ISBN)\n",
    "\n",
    "for i in range(len(distance.flatten())):\n",
    "    if i==0:\n",
    "        print('Recommendations for {0}:\\n'.format(book_names[i]))\n",
    "        matrix_fact_knn_check_isbn = rating_pivot_x.index[indices.flatten()[i]]\n",
    "    else:\n",
    "        print(\"{0}:{1} with distances of {2}\".format(i, book_names[i], \n",
    "                                                     distance.flatten()[i]))"
   ]
  },
  {
   "cell_type": "markdown",
   "metadata": {},
   "source": [
    "## Matrix Factorization"
   ]
  },
  {
   "cell_type": "code",
   "execution_count": 19,
   "metadata": {},
   "outputs": [],
   "source": [
    "rating_pivot_mat_fac = rating_pivot.pivot(index = 'reviewerID', columns = 'asin', values = 'overall')"
   ]
  },
  {
   "cell_type": "code",
   "execution_count": 20,
   "metadata": {},
   "outputs": [],
   "source": [
    "# fill null values with zero\n",
    "rating_pivot_mat_fac = rating_pivot_mat_fac.fillna(0)"
   ]
  },
  {
   "cell_type": "code",
   "execution_count": 66,
   "metadata": {},
   "outputs": [],
   "source": [
    "util_matrix = rating_pivot_mat_fac.values.T"
   ]
  },
  {
   "cell_type": "code",
   "execution_count": 67,
   "metadata": {},
   "outputs": [],
   "source": [
    "from sklearn.decomposition import TruncatedSVD\n",
    "\n",
    "SVD = TruncatedSVD(n_components = 12, random_state = 17)"
   ]
  },
  {
   "cell_type": "code",
   "execution_count": 68,
   "metadata": {},
   "outputs": [
    {
     "data": {
      "text/plain": [
       "(292, 12)"
      ]
     },
     "execution_count": 68,
     "metadata": {},
     "output_type": "execute_result"
    }
   ],
   "source": [
    "matrix = SVD.fit_transform(util_matrix)\n",
    "matrix.shape"
   ]
  },
  {
   "cell_type": "code",
   "execution_count": 69,
   "metadata": {},
   "outputs": [
    {
     "data": {
      "text/plain": [
       "(292, 292)"
      ]
     },
     "execution_count": 69,
     "metadata": {},
     "output_type": "execute_result"
    }
   ],
   "source": [
    "corr = np.corrcoef(matrix)\n",
    "corr.shape"
   ]
  },
  {
   "cell_type": "code",
   "execution_count": 70,
   "metadata": {},
   "outputs": [],
   "source": [
    "book_isbn10 = rating_pivot_mat_fac.columns"
   ]
  },
  {
   "cell_type": "code",
   "execution_count": 71,
   "metadata": {},
   "outputs": [],
   "source": [
    "isbn_list = list(book_isbn10)"
   ]
  },
  {
   "cell_type": "code",
   "execution_count": 98,
   "metadata": {},
   "outputs": [],
   "source": [
    "# ISBN or 'asin' number of the queried index above in KNN\n",
    "ISBN = matrix_fact_knn_check_isbn"
   ]
  },
  {
   "cell_type": "code",
   "execution_count": 99,
   "metadata": {},
   "outputs": [],
   "source": [
    "compare_recs = isbn_list.index(ISBN)"
   ]
  },
  {
   "cell_type": "code",
   "execution_count": 100,
   "metadata": {},
   "outputs": [
    {
     "name": "stdout",
     "output_type": "stream",
     "text": [
      "32\n"
     ]
    }
   ],
   "source": [
    "print(compare_recs)"
   ]
  },
  {
   "cell_type": "code",
   "execution_count": 101,
   "metadata": {},
   "outputs": [],
   "source": [
    "corr_compare_isbn = corr[compare_recs]"
   ]
  },
  {
   "cell_type": "code",
   "execution_count": 102,
   "metadata": {},
   "outputs": [],
   "source": [
    "recommendations = list(book_isbn10[(corr_compare_isbn < 1.0) & (corr_compare_isbn > 0.9)])"
   ]
  },
  {
   "cell_type": "code",
   "execution_count": 103,
   "metadata": {},
   "outputs": [
    {
     "name": "stdout",
     "output_type": "stream",
     "text": [
      "['0007205236', '0020519109', '0025853503', '0026009102', '0060098902', '0060194995', '0060573775', '0060652926', '0060652934', '006073132X', '0060738170', '0060740450', '0060755334', '0060794410', '0060838582', '0060850523', '0060890096', '0061122416', '0062008110', '0062314254', '0091883768', '0099244721', '0099297701', '0099908506', '0140012486', '0140049975', '0140058893', '0140060286', '014014773X', '0140177396', '0140186409', '0140264078', '0140283331', '0140306013', '0140390839', '014044615X', '0140621199', '0140621806', '0141182571', '014118776X', '014143984X', '0141884819', '0142000280', '0142800821', '0143036556', '0143038583', '0143143743', '0195014766', '020530902X', '0307237699', '0307265773', '0307275639', '0307277674', '0307353133', '0307387178', '0307475255']\n"
     ]
    }
   ],
   "source": [
    "print(recommendations)"
   ]
  },
  {
   "cell_type": "code",
   "execution_count": 109,
   "metadata": {},
   "outputs": [
    {
     "data": {
      "text/plain": [
       "True"
      ]
     },
     "execution_count": 109,
     "metadata": {},
     "output_type": "execute_result"
    }
   ],
   "source": [
    "matrix_fact_knn_check_isbn in recommendations"
   ]
  },
  {
   "cell_type": "code",
   "execution_count": 113,
   "metadata": {},
   "outputs": [
    {
     "data": {
      "text/plain": [
       "0.9403461326476087"
      ]
     },
     "execution_count": 113,
     "metadata": {},
     "output_type": "execute_result"
    }
   ],
   "source": [
    "corr_compare_isbn[isbn_list.index('0007205236')]"
   ]
  },
  {
   "cell_type": "code",
   "execution_count": 127,
   "metadata": {},
   "outputs": [],
   "source": [
    "book_names = []\n",
    "book_names.append(get_book_name(matrix_fact_knn_check_isbn))\n",
    "\n",
    "for x in recommendations:\n",
    "    name_of_book = get_book_name(x)\n",
    "    if name_of_book:\n",
    "        book_names.append(name_of_book)\n",
    "    else:\n",
    "        book_names.append(x)\n"
   ]
  },
  {
   "cell_type": "code",
   "execution_count": 128,
   "metadata": {},
   "outputs": [
    {
     "data": {
      "text/plain": [
       "0.9403461326476087"
      ]
     },
     "execution_count": 128,
     "metadata": {},
     "output_type": "execute_result"
    }
   ],
   "source": [
    "corr_compare_isbn[isbn_list.index('0007205236')]"
   ]
  },
  {
   "cell_type": "code",
   "execution_count": 130,
   "metadata": {},
   "outputs": [
    {
     "name": "stdout",
     "output_type": "stream",
     "text": [
      "If you like [\"Slaughterhouse-Five (or The Children's Crusade: A Duty Dance with Death)\"]:\n",
      "\n",
      "1:We recommend reading [\"Angela's Ashes\"] with a distance of 0.9922459475954086\n",
      "2:We recommend reading ['The Old Man and the Sea (A Scribner Classic)'] with a distance of 0.9140587125150821\n",
      "3:We recommend reading ['Gone With the Wind'] with a distance of 0.9722917414648534\n",
      "4:We recommend reading ['The fountainhead'] with a distance of 0.9378229529291554\n",
      "5:We recommend reading ['The Great Gatsby'] with a distance of 0.9883941780641975\n",
      "6:We recommend reading 0060194995 with a distance of 0.9999999999999999\n",
      "7:We recommend reading [\"Slaughterhouse-Five (or The Children's Crusade: A Duty Dance with Death)\"] with a distance of 0.9449399347044792\n",
      "8:We recommend reading ['Mere Christianity'] with a distance of 0.9049965188474759\n",
      "9:We recommend reading ['The Screwtape Letters'] with a distance of 0.9486854192345556\n",
      "10:We recommend reading ['Freakonomics'] with a distance of 0.9411111641545542\n",
      "11:We recommend reading ['Misquoting Jesus'] with a distance of 0.9649195220489432\n",
      "12:We recommend reading [\"One Hundred Years of Solitude (Oprah's Book Club)\"] with a distance of 0.9891235554694622\n",
      "13:We recommend reading ['On The Road CD'] with a distance of 0.9681675039709381\n",
      "14:We recommend reading ['Good to Great CD'] with a distance of 0.9625058276190015\n",
      "15:We recommend reading ['Fast Food Nation'] with a distance of 0.9793930250688854\n",
      "16:We recommend reading ['Brave New World'] with a distance of 0.9941515604191671\n",
      "17:We recommend reading ['Catch-22 CD'] with a distance of 0.9154302359778366\n",
      "18:We recommend reading ['The Alchemist'] with a distance of 0.9618992464171663\n",
      "19:We recommend reading ['Wuthering Heights'] with a distance of 0.9881793109538795\n",
      "20:We recommend reading 0062314254 with a distance of 0.9403378694249469\n",
      "21:We recommend reading ['Who Moved My Cheese?'] with a distance of 0.9222730819214742\n",
      "22:We recommend reading ['Timeline'] with a distance of 0.9423764776031821\n",
      "23:We recommend reading ['Hannibal'] with a distance of 0.98743955059251\n",
      "24:We recommend reading ['Fiesta: The Sun Also Rises'] with a distance of 0.9975110050838625\n",
      "25:We recommend reading ['The Catcher in the Rye (Modern Classics)'] with a distance of 0.9545847266054003\n",
      "26:We recommend reading ['East of Eden'] with a distance of 0.9411122957014454\n",
      "27:We recommend reading ['A confederacy of dunces'] with a distance of 0.9290417632046007\n",
      "28:We recommend reading ['Night'] with a distance of 0.9056858579409993\n",
      "29:We recommend reading ['The things they carried'] with a distance of 0.9916696606701476\n",
      "30:We recommend reading ['Of Mice and Men'] with a distance of 0.9885940064576553\n",
      "31:We recommend reading ['The Grapes of Wrath'] with a distance of 0.9880518448857732\n",
      "32:We recommend reading ['Lolita'] with a distance of 0.9918957955159571\n",
      "33:We recommend reading ['Lord of the flies'] with a distance of 0.9043399459098114\n",
      "34:We recommend reading ['Watership Down (Puffin Books)'] with a distance of 0.9482221808006457\n",
      "35:We recommend reading ['The adventures of Tom Sawyer'] with a distance of 0.9474379672456196\n",
      "36:We recommend reading ['The Count of Monte Cristo (Penguin Classics)'] with a distance of 0.9085891302814667\n",
      "37:We recommend reading ['Little Women'] with a distance of 0.9920572609776143\n",
      "38:We recommend reading ['Crime and Punishment (Penguin Popular Classics)'] with a distance of 0.9644282593285585\n",
      "39:We recommend reading ['In Cold Blood (Penguin Modern Classics)'] with a distance of 0.9231045838602286\n",
      "40:We recommend reading ['Nineteen Eighty-four (Penguin Modern Classics)'] with a distance of 0.9541806708483396\n",
      "41:We recommend reading ['Dracula'] with a distance of 0.9447697928023834\n",
      "42:We recommend reading 0141884819 with a distance of 0.9404379723295149\n",
      "43:We recommend reading ['Getting Things Done'] with a distance of 0.9219670300657385\n",
      "44:We recommend reading ['Eats, Shoots & Leaves'] with a distance of 0.955431475426274\n",
      "45:We recommend reading ['Collapse'] with a distance of 0.9094522767910622\n",
      "46:We recommend reading [\"The Omnivore's Dilemma\"] with a distance of 0.9885149616341259\n",
      "47:We recommend reading 0143143743 with a distance of 0.9632314429885132\n",
      "48:We recommend reading ['The art of war'] with a distance of 0.9642133307276912\n",
      "49:We recommend reading ['The Elements of Style'] with a distance of 0.9372279893265797\n",
      "50:We recommend reading ['The audacity of hope'] with a distance of 0.9619631753373091\n",
      "51:We recommend reading ['Letter to a Christian Nation'] with a distance of 0.903384657637192\n",
      "52:We recommend reading ['Tuesdays with Morrie'] with a distance of 0.9478995815584883\n",
      "53:We recommend reading ['The Da Vinci Code'] with a distance of 0.9478198733488861\n",
      "54:We recommend reading ['The 4-hour work week'] with a distance of 0.9314542027636525\n",
      "55:We recommend reading ['Into The Wild'] with a distance of 0.9345458898760155\n"
     ]
    },
    {
     "ename": "IndexError",
     "evalue": "list index out of range",
     "output_type": "error",
     "traceback": [
      "\u001b[0;31m---------------------------------------------------------------------------\u001b[0m",
      "\u001b[0;31mIndexError\u001b[0m                                Traceback (most recent call last)",
      "\u001b[0;32m<ipython-input-130-4c1ceeb8ae8a>\u001b[0m in \u001b[0;36m<module>\u001b[0;34m()\u001b[0m\n\u001b[1;32m      3\u001b[0m         \u001b[0mprint\u001b[0m\u001b[0;34m(\u001b[0m\u001b[0;34m'If you like {0}:\\n'\u001b[0m\u001b[0;34m.\u001b[0m\u001b[0mformat\u001b[0m\u001b[0;34m(\u001b[0m\u001b[0mbook_names\u001b[0m\u001b[0;34m[\u001b[0m\u001b[0mi\u001b[0m\u001b[0;34m]\u001b[0m\u001b[0;34m)\u001b[0m\u001b[0;34m)\u001b[0m\u001b[0;34m\u001b[0m\u001b[0;34m\u001b[0m\u001b[0m\n\u001b[1;32m      4\u001b[0m     \u001b[0;32melse\u001b[0m\u001b[0;34m:\u001b[0m\u001b[0;34m\u001b[0m\u001b[0;34m\u001b[0m\u001b[0m\n\u001b[0;32m----> 5\u001b[0;31m         \u001b[0mprint\u001b[0m\u001b[0;34m(\u001b[0m\u001b[0;34m\"{0}:We recommend reading {1} with a distance of {2}\"\u001b[0m\u001b[0;34m.\u001b[0m\u001b[0mformat\u001b[0m\u001b[0;34m(\u001b[0m\u001b[0mi\u001b[0m\u001b[0;34m,\u001b[0m \u001b[0mbook_names\u001b[0m\u001b[0;34m[\u001b[0m\u001b[0mi\u001b[0m\u001b[0;34m]\u001b[0m\u001b[0;34m,\u001b[0m               \u001b[0mcorr_compare_isbn\u001b[0m\u001b[0;34m[\u001b[0m\u001b[0misbn_list\u001b[0m\u001b[0;34m.\u001b[0m\u001b[0mindex\u001b[0m\u001b[0;34m(\u001b[0m\u001b[0mrecommendations\u001b[0m\u001b[0;34m[\u001b[0m\u001b[0mi\u001b[0m\u001b[0;34m]\u001b[0m\u001b[0;34m)\u001b[0m\u001b[0;34m]\u001b[0m\u001b[0;34m)\u001b[0m\u001b[0;34m)\u001b[0m\u001b[0;34m\u001b[0m\u001b[0;34m\u001b[0m\u001b[0m\n\u001b[0m",
      "\u001b[0;31mIndexError\u001b[0m: list index out of range"
     ]
    }
   ],
   "source": [
    "for i in range(len(book_names)):\n",
    "    if i==0:\n",
    "        print('If you like {0}:\\n'.format(book_names[i]))\n",
    "    else:\n",
    "        print(\"{0}:We recommend reading {1} with a distance of {2}\".format(i, book_names[i], \\\n",
    "              corr_compare_isbn[isbn_list.index(recommendations[i])]))"
   ]
  },
  {
   "cell_type": "code",
   "execution_count": null,
   "metadata": {},
   "outputs": [],
   "source": []
  }
 ],
 "metadata": {
  "kernelspec": {
   "display_name": "Python 3",
   "language": "python",
   "name": "python3"
  },
  "language_info": {
   "codemirror_mode": {
    "name": "ipython",
    "version": 3
   },
   "file_extension": ".py",
   "mimetype": "text/x-python",
   "name": "python",
   "nbconvert_exporter": "python",
   "pygments_lexer": "ipython3",
   "version": "3.7.3"
  }
 },
 "nbformat": 4,
 "nbformat_minor": 2
}
