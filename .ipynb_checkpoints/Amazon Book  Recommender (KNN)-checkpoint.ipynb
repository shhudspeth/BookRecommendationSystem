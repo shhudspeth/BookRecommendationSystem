{
 "cells": [
  {
   "cell_type": "markdown",
   "metadata": {},
   "source": [
    "# Book Recommendation System"
   ]
  },
  {
   "cell_type": "markdown",
   "metadata": {},
   "source": [
    "#### Credit for making a sparse table comes from this article:\n",
    "https://towardsdatascience.com/how-did-we-build-book-recommender-systems-in-an-hour-part-2-k-nearest-neighbors-and-matrix-c04b3c2ef55c"
   ]
  },
  {
   "cell_type": "markdown",
   "metadata": {},
   "source": [
    "## Load Libraries and Pre-processing Data"
   ]
  },
  {
   "cell_type": "code",
   "execution_count": 2,
   "metadata": {},
   "outputs": [],
   "source": [
    "import json\n",
    "import pandas as pd\n",
    "import numpy as np\n",
    "from scipy.sparse import csr_matrix\n",
    "import sklearn"
   ]
  },
  {
   "cell_type": "code",
   "execution_count": null,
   "metadata": {},
   "outputs": [],
   "source": [
    "data = []\n",
    "\n",
    "for line in open('reviews_Books_5.json','r'): \n",
    "    if len(data) < 1000000:\n",
    "        data.append(json.loads(line))  "
   ]
  },
  {
   "cell_type": "code",
   "execution_count": null,
   "metadata": {},
   "outputs": [],
   "source": [
    "# skip header info\n",
    "data = data[1:]"
   ]
  },
  {
   "cell_type": "code",
   "execution_count": null,
   "metadata": {},
   "outputs": [],
   "source": [
    "# load json data into pandas Dataframe\n",
    "df = pd.DataFrame(data)\n",
    "df.head()"
   ]
  },
  {
   "cell_type": "code",
   "execution_count": null,
   "metadata": {},
   "outputs": [],
   "source": [
    "# save dataframe to csv for easier loading \n",
    "df.to_csv(\"books.csv\")"
   ]
  },
  {
   "cell_type": "code",
   "execution_count": 3,
   "metadata": {},
   "outputs": [],
   "source": [
    "# load data from csv for EDA\n",
    "df = pd.read_csv('books.csv')"
   ]
  },
  {
   "cell_type": "markdown",
   "metadata": {},
   "source": [
    "## Processes the CSV file and creates the DF needed to make a pivot table"
   ]
  },
  {
   "cell_type": "code",
   "execution_count": 3,
   "metadata": {},
   "outputs": [],
   "source": [
    "def top_reviewed_books (file, threshold):\n",
    "    # function loads the csv file to use, drops columns, finds reviews that are above a threshold count\n",
    "    # returns a dataframe with only review informations for the most reviewed books\n",
    "    df = pd.read_csv(file)\n",
    "    rating_df = df[['asin', 'reviewerID', 'overall']].copy()\n",
    "    pop_rating = rating_df.groupby(['asin']).count().rename(columns = {'overall':'review_count'})\n",
    "    rating_df['review_count'] = rating_df['asin'].apply(lambda x: pop_rating['review_count'][x])\n",
    "    good_rating_df = rating_df[rating_df['review_count']>threshold].copy()\n",
    "    good_rating_df.drop(columns = ['review_count'], inplace=True)\n",
    "    \n",
    "    return good_rating_df"
   ]
  },
  {
   "cell_type": "markdown",
   "metadata": {},
   "source": [
    "## Generate Training and Testing Data"
   ]
  },
  {
   "cell_type": "code",
   "execution_count": 4,
   "metadata": {},
   "outputs": [],
   "source": [
    "rating_pivot = top_reviewed_books('books.csv', 359)"
   ]
  },
  {
   "cell_type": "code",
   "execution_count": 5,
   "metadata": {},
   "outputs": [],
   "source": [
    "# only use if index must be int and cannot be strings\n",
    "#rating_pivot['asin'] = rating_pivot['asin'].apply(lambda x: x.replace('X', '10'))"
   ]
  },
  {
   "cell_type": "code",
   "execution_count": 6,
   "metadata": {},
   "outputs": [
    {
     "data": {
      "text/html": [
       "<div>\n",
       "<style scoped>\n",
       "    .dataframe tbody tr th:only-of-type {\n",
       "        vertical-align: middle;\n",
       "    }\n",
       "\n",
       "    .dataframe tbody tr th {\n",
       "        vertical-align: top;\n",
       "    }\n",
       "\n",
       "    .dataframe thead th {\n",
       "        text-align: right;\n",
       "    }\n",
       "</style>\n",
       "<table border=\"1\" class=\"dataframe\">\n",
       "  <thead>\n",
       "    <tr style=\"text-align: right;\">\n",
       "      <th></th>\n",
       "      <th>asin</th>\n",
       "      <th>reviewerID</th>\n",
       "      <th>overall</th>\n",
       "    </tr>\n",
       "  </thead>\n",
       "  <tbody>\n",
       "    <tr>\n",
       "      <th>314</th>\n",
       "      <td>0002007770</td>\n",
       "      <td>A35VAQCQ4U28V7</td>\n",
       "      <td>2.0</td>\n",
       "    </tr>\n",
       "    <tr>\n",
       "      <th>315</th>\n",
       "      <td>0002007770</td>\n",
       "      <td>APBA7Y4SINS0H</td>\n",
       "      <td>1.0</td>\n",
       "    </tr>\n",
       "    <tr>\n",
       "      <th>316</th>\n",
       "      <td>0002007770</td>\n",
       "      <td>A3FVQCS5Q09W9N</td>\n",
       "      <td>5.0</td>\n",
       "    </tr>\n",
       "    <tr>\n",
       "      <th>317</th>\n",
       "      <td>0002007770</td>\n",
       "      <td>A22019GDU7OVFG</td>\n",
       "      <td>5.0</td>\n",
       "    </tr>\n",
       "    <tr>\n",
       "      <th>318</th>\n",
       "      <td>0002007770</td>\n",
       "      <td>A1X3ASRHM5ZF8K</td>\n",
       "      <td>3.0</td>\n",
       "    </tr>\n",
       "  </tbody>\n",
       "</table>\n",
       "</div>"
      ],
      "text/plain": [
       "           asin      reviewerID  overall\n",
       "314  0002007770  A35VAQCQ4U28V7      2.0\n",
       "315  0002007770   APBA7Y4SINS0H      1.0\n",
       "316  0002007770  A3FVQCS5Q09W9N      5.0\n",
       "317  0002007770  A22019GDU7OVFG      5.0\n",
       "318  0002007770  A1X3ASRHM5ZF8K      3.0"
      ]
     },
     "execution_count": 6,
     "metadata": {},
     "output_type": "execute_result"
    }
   ],
   "source": [
    "rating_pivot.head()"
   ]
  },
  {
   "cell_type": "markdown",
   "metadata": {},
   "source": [
    "## Here is where we manually setting the train and test splits"
   ]
  },
  {
   "cell_type": "code",
   "execution_count": 7,
   "metadata": {},
   "outputs": [
    {
     "data": {
      "text/plain": [
       "71482.29000000001"
      ]
     },
     "execution_count": 7,
     "metadata": {},
     "output_type": "execute_result"
    }
   ],
   "source": [
    "len(rating_pivot) * .33"
   ]
  },
  {
   "cell_type": "markdown",
   "metadata": {},
   "source": [
    "#### Chose and then store random index values to be target values"
   ]
  },
  {
   "cell_type": "code",
   "execution_count": 8,
   "metadata": {},
   "outputs": [],
   "source": [
    "test_index = np.random.randint(len(rating_pivot), size=int(len(rating_pivot) * .33))"
   ]
  },
  {
   "cell_type": "code",
   "execution_count": 10,
   "metadata": {},
   "outputs": [],
   "source": [
    "test_df = rating_pivot.iloc[test_index]"
   ]
  },
  {
   "cell_type": "code",
   "execution_count": 11,
   "metadata": {},
   "outputs": [],
   "source": [
    "test_values = rating_pivot.iloc[test_index]['overall']"
   ]
  },
  {
   "cell_type": "code",
   "execution_count": 12,
   "metadata": {},
   "outputs": [
    {
     "data": {
      "text/plain": [
       "225000    4.0\n",
       "912943    4.0\n",
       "306791    5.0\n",
       "21282     2.0\n",
       "938663    5.0\n",
       "Name: overall, dtype: float64"
      ]
     },
     "execution_count": 12,
     "metadata": {},
     "output_type": "execute_result"
    }
   ],
   "source": [
    "test_values.head()"
   ]
  },
  {
   "cell_type": "code",
   "execution_count": 13,
   "metadata": {},
   "outputs": [
    {
     "data": {
      "text/plain": [
       "71482"
      ]
     },
     "execution_count": 13,
     "metadata": {},
     "output_type": "execute_result"
    }
   ],
   "source": [
    "len(test_values)"
   ]
  },
  {
   "cell_type": "markdown",
   "metadata": {},
   "source": [
    "#### Once the target index is found,  set, and stored, we change those rating values to 0 in order to use the utility matrix to predict values"
   ]
  },
  {
   "cell_type": "code",
   "execution_count": 108,
   "metadata": {},
   "outputs": [],
   "source": [
    "rating_pivot.iloc[test_index]['overall'].apply(lambda x: 0);"
   ]
  },
  {
   "cell_type": "markdown",
   "metadata": {},
   "source": [
    "### Pivot Table"
   ]
  },
  {
   "cell_type": "code",
   "execution_count": 15,
   "metadata": {},
   "outputs": [],
   "source": [
    "rating_pivot_x = rating_pivot.pivot(index = 'asin', columns = 'reviewerID', values = 'overall')"
   ]
  },
  {
   "cell_type": "code",
   "execution_count": 16,
   "metadata": {},
   "outputs": [],
   "source": [
    "rating_pivot_x = rating_pivot_x.fillna(0)"
   ]
  },
  {
   "cell_type": "markdown",
   "metadata": {},
   "source": [
    "### Utility (Sparse) Matrix"
   ]
  },
  {
   "cell_type": "code",
   "execution_count": 18,
   "metadata": {},
   "outputs": [],
   "source": [
    "util_matrix = csr_matrix(rating_pivot_x.values)"
   ]
  },
  {
   "cell_type": "markdown",
   "metadata": {},
   "source": [
    "### KNN Modeling"
   ]
  },
  {
   "cell_type": "code",
   "execution_count": 19,
   "metadata": {},
   "outputs": [],
   "source": [
    "from sklearn.neighbors import NearestNeighbors"
   ]
  },
  {
   "cell_type": "code",
   "execution_count": 20,
   "metadata": {},
   "outputs": [
    {
     "data": {
      "text/plain": [
       "NearestNeighbors(algorithm='brute', leaf_size=30, metric='cosine',\n",
       "         metric_params=None, n_jobs=1, n_neighbors=5, p=2, radius=1.0)"
      ]
     },
     "execution_count": 20,
     "metadata": {},
     "output_type": "execute_result"
    }
   ],
   "source": [
    "model_knn = NearestNeighbors(metric='cosine', algorithm = 'brute')\n",
    "model_knn.fit(util_matrix)"
   ]
  },
  {
   "cell_type": "markdown",
   "metadata": {},
   "source": [
    "### Using Testing Data to determine K-5 neighbors averages"
   ]
  },
  {
   "cell_type": "code",
   "execution_count": 22,
   "metadata": {},
   "outputs": [],
   "source": [
    "# FYI  rating_pivot_x uses .loc NOT iloc \n",
    "  "
   ]
  },
  {
   "cell_type": "markdown",
   "metadata": {},
   "source": [
    "### Here is where we find K_5 neighbors, average any reviews greater than zero, mean those 5 scores, and return that as the predictive value"
   ]
  },
  {
   "cell_type": "code",
   "execution_count": 110,
   "metadata": {},
   "outputs": [],
   "source": [
    "mean_ratings = []\n",
    "    \n",
    "for index in test_df.values[:100]:\n",
    "       \n",
    "    distance, indices = model_knn.kneighbors(rating_pivot_x.loc[index[0], :].values.reshape(1,-1), n_neighbors=5)\n",
    "    \n",
    "    knn_of_ratings = []\n",
    "    for x in indices[0]:\n",
    "        \n",
    "        knn_of_ratings.append(sum(rating_pivot_x.iloc[x, :][rating_pivot_x.iloc[x, :].values >0].values)\\\n",
    "                              /len(rating_pivot_x.iloc[x, :][rating_pivot_x.iloc[x, :].values >0].values))\n",
    "       \n",
    "    mean = sum(knn_of_ratings)/len(knn_of_ratings)\n",
    "    mean_ratings.append((index, mean))\n",
    "       \n"
   ]
  },
  {
   "cell_type": "markdown",
   "metadata": {},
   "source": [
    "### Here is where I manually find the RMSE from target and predicted ratings"
   ]
  },
  {
   "cell_type": "code",
   "execution_count": 111,
   "metadata": {},
   "outputs": [
    {
     "name": "stdout",
     "output_type": "stream",
     "text": [
      "RMSE is  1.1763587888055242\n"
     ]
    }
   ],
   "source": [
    "import math \n",
    "\n",
    "mean_sq = []\n",
    "for x in mean_ratings:\n",
    "    test_pred = round(x[1], 2)\n",
    "    target = test_df[(test_df['asin']==x[0][0]) & (test_df['reviewerID']==x[0][1])]['overall'].values\n",
    "    target = sum(target)/len(target)\n",
    "    mean_sq_e = (target - test_pred)**2\n",
    "    mean_sq.append(mean_sq_e)\n",
    "    \n",
    "print(\"RMSE is \", math.sqrt(sum(mean_sq)/len(mean_ratings)))"
   ]
  },
  {
   "cell_type": "markdown",
   "metadata": {},
   "source": [
    "### Setting up Random tests for Recommendations"
   ]
  },
  {
   "cell_type": "code",
   "execution_count": 65,
   "metadata": {},
   "outputs": [],
   "source": [
    "query_index = np.random.choice(rating_pivot_x.shape[0])"
   ]
  },
  {
   "cell_type": "code",
   "execution_count": 20,
   "metadata": {},
   "outputs": [],
   "source": [
    "distance, indices = model_knn.kneighbors(rating_pivot_x.iloc[query_index, :].values.reshape(1,-1), n_neighbors=6)"
   ]
  },
  {
   "cell_type": "markdown",
   "metadata": {},
   "source": [
    "### Finding the Book name as data is in ISBN -10"
   ]
  },
  {
   "cell_type": "code",
   "execution_count": 21,
   "metadata": {},
   "outputs": [],
   "source": [
    "import requests\n",
    "import re\n",
    "\n",
    "def get_response(url):\n",
    "    response = requests.get(url)\n",
    "    # print('Acquired following info about the book {}'.format(response.text))\n",
    "    json_data = json.loads(response.text)\n",
    "    return json_data                              \n",
    "                    \n",
    "    \n",
    "def get_title_of_book(text):\n",
    "    title_ =[]\n",
    "    for x in text.keys():\n",
    "        # print(x)\n",
    "        title_.append(text[x]['title'])\n",
    "    return title_\n",
    "    \n",
    "    \n",
    "def form_url(ISBN=None):\n",
    "    \"\"\"Formulate an url that will be sent to openlibrary.org/api'.\n",
    "\n",
    "    Parameters\n",
    "    ----------\n",
    "    ISBN : string\n",
    "        a string of book's ISBN.\n",
    "\n",
    "    Returns\n",
    "    -------\n",
    "    string\n",
    "        An url that will be sent to openlibrary/org/api.\n",
    "\n",
    "    \"\"\"\n",
    "    url = 'https://openlibrary.org/api/books?bibkeys=ISBN:' + \\\n",
    "        ISBN + '&jscmd=data&format=json'\n",
    "\n",
    "    return url\n",
    "\n",
    "def get_book_names():\n",
    "    book_names = []\n",
    "    for i in range(len(distance.flatten())):\n",
    "        ISBN = rating_pivot_x.index[indices.flatten()[i]]\n",
    "        url = form_url(ISBN)\n",
    "        text = get_response(url)\n",
    "        name_of_book = get_title_of_book(text)\n",
    "        if len(name_of_book) > 1:\n",
    "            book_names.append(name_of_book)\n",
    "        else:\n",
    "            book_names.append(ISBN)\n",
    "    return(book_names)"
   ]
  },
  {
   "cell_type": "markdown",
   "metadata": {},
   "source": [
    "## Following up with KNN and Book Names"
   ]
  },
  {
   "cell_type": "code",
   "execution_count": 22,
   "metadata": {},
   "outputs": [
    {
     "name": "stdout",
     "output_type": "stream",
     "text": [
      "Recommendations for 0142419400:\n",
      "\n",
      "1:['Unearthly'] with distances of 0.7954196113339824\n",
      "2:014242899X with distances of 0.8041996810448896\n",
      "3:['Delirium'] with distances of 0.831780796243394\n",
      "4:['Shatter me'] with distances of 0.8459274032182215\n",
      "5:['Before I Fall'] with distances of 0.8559573456414674\n"
     ]
    }
   ],
   "source": [
    "book_names = []\n",
    "\n",
    "for i in range(len(distance.flatten())):\n",
    "    ISBN = rating_pivot_x.index[indices.flatten()[i]]\n",
    "    url = form_url(ISBN)\n",
    "    text = get_response(url)\n",
    "    name_of_book = get_title_of_book(text)\n",
    "    if len(name_of_book) > 0:\n",
    "        book_names.append(name_of_book)\n",
    "    else:\n",
    "        book_names.append(ISBN)\n",
    "\n",
    "for i in range(len(distance.flatten())):\n",
    "    if i==0:\n",
    "        print('Recommendations for {0}:\\n'.format(book_names[i]))\n",
    "    else:\n",
    "        print(\"{0}:{1} with distances of {2}\".format(i, book_names[i], \n",
    "                                                     distance.flatten()[i]))"
   ]
  },
  {
   "cell_type": "code",
   "execution_count": null,
   "metadata": {},
   "outputs": [],
   "source": []
  }
 ],
 "metadata": {
  "kernelspec": {
   "display_name": "Python 3",
   "language": "python",
   "name": "python3"
  },
  "language_info": {
   "codemirror_mode": {
    "name": "ipython",
    "version": 3
   },
   "file_extension": ".py",
   "mimetype": "text/x-python",
   "name": "python",
   "nbconvert_exporter": "python",
   "pygments_lexer": "ipython3",
   "version": "3.7.3"
  }
 },
 "nbformat": 4,
 "nbformat_minor": 2
}
